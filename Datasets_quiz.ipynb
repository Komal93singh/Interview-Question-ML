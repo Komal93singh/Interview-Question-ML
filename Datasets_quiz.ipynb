{
 "cells": [
  {
   "cell_type": "code",
   "execution_count": null,
   "id": "c76cabf0",
   "metadata": {},
   "outputs": [],
   "source": [
    "Datasets"
   ]
  },
  {
   "cell_type": "code",
   "execution_count": null,
   "id": "c5907fe6",
   "metadata": {},
   "outputs": [],
   "source": [
    "##Q1. What distinguishes continuous data from discrete data? \n",
    "1. Continuous data can only take whole numbers \n",
    "2. Continuous data can take any value within a range \n",
    "3. Discrete data can take any value within a range \n",
    "4. Discrete data is measured, while continuous data is counted"
   ]
  },
  {
   "cell_type": "markdown",
   "id": "9c6485a8",
   "metadata": {},
   "source": [
    "The correct answer is:\n",
    "\n",
    "**2. Continuous data can take any value within a range**\n",
    "\n",
    "### Explanation:\n",
    "\n",
    "* **Continuous data**: Can take **any value** within a given range, including fractions and decimals. It is **measured**, not counted (e.g., height, weight, temperature).\n",
    "* **Discrete data**: Can take **only specific values**, often whole numbers. It is **counted**, not measured (e.g., number of students, number of cars).\n",
    "\n",
    "So:\n",
    "\n",
    "* ❌ 1 is incorrect (whole numbers → discrete data).\n",
    "* ✅ 2 is correct.\n",
    "* ❌ 3 is incorrect (this describes continuous data, not discrete).\n",
    "* ❌ 4 is reversed. Continuous is measured, discrete is counted.\n"
   ]
  },
  {
   "cell_type": "code",
   "execution_count": null,
   "id": "5ecb4104",
   "metadata": {},
   "outputs": [],
   "source": []
  },
  {
   "cell_type": "code",
   "execution_count": null,
   "id": "34b62c74",
   "metadata": {},
   "outputs": [],
   "source": [
    "##Q2. Why is it important to understand the level of measurement for your data? \n",
    "1. It helps in categorizing data \n",
    "2. It determines the type of statistical analysis you can perform \n",
    "3. It ensures data is always accurate \n",
    "4. It simplifies data collection"
   ]
  },
  {
   "cell_type": "markdown",
   "id": "5e0a33a5",
   "metadata": {},
   "source": [
    "The correct answer is:\n",
    "\n",
    "**2. It determines the type of statistical analysis you can perform**\n",
    "\n",
    "### Explanation:\n",
    "\n",
    "Understanding the **level of measurement** (nominal, ordinal, interval, ratio) is essential because:\n",
    "\n",
    "* It **dictates which statistical methods** are valid (e.g., you can't calculate a mean for nominal data).\n",
    "* It guides decisions about data visualization and hypothesis testing.\n",
    "\n",
    "So:\n",
    "\n",
    "* ✅ **2 is correct**\n",
    "* ❌ 1 is partially true but not the main reason\n",
    "* ❌ 3 is false — level of measurement doesn't guarantee accuracy\n",
    "* ❌ 4 is unrelated — measurement level affects analysis, not collection\n"
   ]
  }
 ],
 "metadata": {
  "language_info": {
   "name": "python"
  }
 },
 "nbformat": 4,
 "nbformat_minor": 5
}
