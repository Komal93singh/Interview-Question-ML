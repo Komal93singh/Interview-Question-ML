{
 "cells": [
  {
   "cell_type": "code",
   "execution_count": null,
   "id": "c76cabf0",
   "metadata": {},
   "outputs": [],
   "source": [
    "Datasets"
   ]
  },
  {
   "cell_type": "markdown",
   "id": "de133507",
   "metadata": {},
   "source": [
    "## Q1. What distinguishes continuous data from discrete data? \n",
    "1. Continuous data can only take whole numbers \n",
    "2. Continuous data can take any value within a range \n",
    "3. Discrete data can take any value within a range \n",
    "4. Discrete data is measured, while continuous data is counted"
   ]
  },
  {
   "cell_type": "markdown",
   "id": "9c6485a8",
   "metadata": {},
   "source": [
    "The correct answer is:\n",
    "\n",
    "**2. Continuous data can take any value within a range**\n",
    "\n",
    "### Explanation:\n",
    "\n",
    "* **Continuous data**: Can take **any value** within a given range, including fractions and decimals. It is **measured**, not counted (e.g., height, weight, temperature).\n",
    "* **Discrete data**: Can take **only specific values**, often whole numbers. It is **counted**, not measured (e.g., number of students, number of cars).\n",
    "\n",
    "So:\n",
    "\n",
    "* ❌ 1 is incorrect (whole numbers → discrete data).\n",
    "* ✅ 2 is correct.\n",
    "* ❌ 3 is incorrect (this describes continuous data, not discrete).\n",
    "* ❌ 4 is reversed. Continuous is measured, discrete is counted.\n"
   ]
  },
  {
   "cell_type": "code",
   "execution_count": null,
   "id": "5ecb4104",
   "metadata": {},
   "outputs": [],
   "source": []
  },
  {
   "cell_type": "markdown",
   "id": "233419f3",
   "metadata": {},
   "source": [
    "## Q2. Why is it important to understand the level of measurement for your data? \n",
    "1. It helps in categorizing data \n",
    "2. It determines the type of statistical analysis you can perform \n",
    "3. It ensures data is always accurate \n",
    "4. It simplifies data collection"
   ]
  },
  {
   "cell_type": "markdown",
   "id": "5e0a33a5",
   "metadata": {},
   "source": [
    "The correct answer is:\n",
    "\n",
    "**2. It determines the type of statistical analysis you can perform**\n",
    "\n",
    "### Explanation:\n",
    "\n",
    "Understanding the **level of measurement** (nominal, ordinal, interval, ratio) is essential because:\n",
    "\n",
    "* It **dictates which statistical methods** are valid (e.g., you can't calculate a mean for nominal data).\n",
    "* It guides decisions about data visualization and hypothesis testing.\n",
    "\n",
    "So:\n",
    "\n",
    "* ✅ **2 is correct**\n",
    "* ❌ 1 is partially true but not the main reason\n",
    "* ❌ 3 is false — level of measurement doesn't guarantee accuracy\n",
    "* ❌ 4 is unrelated — measurement level affects analysis, not collection\n"
   ]
  },
  {
   "cell_type": "code",
   "execution_count": null,
   "id": "7f75fdd5",
   "metadata": {},
   "outputs": [],
   "source": []
  },
  {
   "cell_type": "markdown",
   "id": "591c962a",
   "metadata": {},
   "source": [
    "## Q3. What is a potential issue with using outdated secondary data? \n",
    "1. It is always relevant \n",
    "2. It may not reflect current trends or conditions \n",
    "3. It is easy to analyze \n",
    "4. It is always accurate"
   ]
  },
  {
   "cell_type": "markdown",
   "id": "bcb06eaf",
   "metadata": {},
   "source": [
    "The correct answer is:\n",
    "\n",
    "**2. It may not reflect current trends or conditions**\n",
    "\n",
    "### Explanation:\n",
    "\n",
    "* **Outdated secondary data** can lead to **misleading conclusions** because it may no longer represent the **current reality**.\n",
    "* Data must be **timely** to ensure it's still valid for decision-making.\n",
    "\n",
    "So:\n",
    "\n",
    "* ❌ 1 is false — outdated data is **not** always relevant.\n",
    "* ✅ **2 is correct**\n",
    "* ❌ 3 is irrelevant — ease of analysis doesn’t address the problem.\n",
    "* ❌ 4 is false — older data is **not guaranteed** to be accurate today.\n"
   ]
  },
  {
   "cell_type": "code",
   "execution_count": null,
   "id": "7f09ac34",
   "metadata": {},
   "outputs": [],
   "source": []
  },
  {
   "cell_type": "markdown",
   "id": "75581911",
   "metadata": {},
   "source": [
    "## Q4. What type of data is best for tracking changes in customer satisfaction over several months? \n",
    "1. Cross-sectional data \n",
    "2. Longitudinal data \n",
    "3. Time Series data \n",
    "4. Structured data"
   ]
  },
  {
   "cell_type": "markdown",
   "id": "70177b58",
   "metadata": {},
   "source": [
    "The correct answer is:\n",
    "\n",
    "**2. Longitudinal data**\n",
    "\n",
    "### Explanation:\n",
    "\n",
    "* **Longitudinal data** involves repeatedly measuring the **same subjects over time**, which is ideal for **tracking changes** (like customer satisfaction) across **several months** or years.\n",
    "* This allows analysis of trends and patterns **within individuals or groups**.\n",
    "\n",
    "Let’s look at the other options:\n",
    "\n",
    "* ❌ **1. Cross-sectional data**: Collected at **one point in time** — not suitable for tracking changes.\n",
    "* ✅ **2. Longitudinal data**: Correct.\n",
    "* ❌ **3. Time Series data**: Often refers to **aggregate values** over time (e.g., stock prices), not repeated measures of individuals.\n",
    "* ❌ **4. Structured data**: Refers to **data format**, not time or tracking changes.\n",
    "\n",
    "> 📝 **Note**: Time series can sometimes be confused with longitudinal data, but **longitudinal** is more appropriate when you're tracking **individual customer satisfaction** over time.\n"
   ]
  },
  {
   "cell_type": "code",
   "execution_count": null,
   "id": "8176d70e",
   "metadata": {},
   "outputs": [],
   "source": []
  },
  {
   "cell_type": "markdown",
   "id": "aa484893",
   "metadata": {},
   "source": [
    "## Q5. What is a significant challenge when working with unstructured data? \n",
    "1. It is alwaya accurate \n",
    "2. It is easy to analyze \n",
    "3. It lacks a predefined structure \n",
    "4. It is always quantitative"
   ]
  },
  {
   "cell_type": "markdown",
   "id": "ba55579d",
   "metadata": {},
   "source": [
    "The correct answer is:\n",
    "\n",
    "**3. It lacks a predefined structure**\n",
    "\n",
    "### Explanation:\n",
    "\n",
    "* **Unstructured data** (like emails, videos, images, social media posts) doesn't follow a consistent format, making it **harder to store, search, and analyze**.\n",
    "\n",
    "So:\n",
    "\n",
    "* ❌ **1** is false — unstructured data is **not always accurate**.\n",
    "* ❌ **2** is false — it is actually **hard to analyze** without processing.\n",
    "* ✅ **3** is correct — the lack of predefined structure is the **main challenge**.\n",
    "* ❌ **4** is false — unstructured data is often **qualitative**, not quantitative.\n"
   ]
  },
  {
   "cell_type": "code",
   "execution_count": null,
   "id": "b682aca9",
   "metadata": {},
   "outputs": [],
   "source": []
  },
  {
   "cell_type": "markdown",
   "id": "423c5e1e",
   "metadata": {},
   "source": [
    "## Q6. What is the main focus of time series data analysis? \n",
    "1. Comparing different entites at one in time \n",
    "2. Identifying patterns and trends over time \n",
    "3. Collecting data from various sources \n",
    "4. Analyzing data without any structure"
   ]
  },
  {
   "cell_type": "markdown",
   "id": "89506337",
   "metadata": {},
   "source": [
    "The correct answer is:\n",
    "\n",
    "**2. Identifying patterns and trends over time**\n",
    "\n",
    "### Explanation:\n",
    "\n",
    "* **Time series data analysis** focuses on analyzing data points collected or recorded at **specific time intervals** (e.g., daily, monthly, yearly) to:\n",
    "\n",
    "  * Identify **patterns**\n",
    "  * Detect **trends**, **seasonality**, or **cyclic behavior**\n",
    "  * Make **forecasts**\n",
    "\n",
    "So:\n",
    "\n",
    "* ❌ **1** describes **cross-sectional analysis**, not time series.\n",
    "* ✅ **2** is correct.\n",
    "* ❌ **3** refers to data collection, not the main focus of time series analysis.\n",
    "* ❌ **4** is incorrect — time series data is **structured** by time.\n"
   ]
  },
  {
   "cell_type": "code",
   "execution_count": null,
   "id": "679b39ee",
   "metadata": {},
   "outputs": [],
   "source": []
  },
  {
   "cell_type": "markdown",
   "id": "c42c5108",
   "metadata": {},
   "source": [
    "## Q7. Which method is often used to gather qualitative data? \n",
    "1. Surveys \n",
    "2. Experiments \n",
    "3. Observations \n",
    "4. Interviews"
   ]
  },
  {
   "cell_type": "markdown",
   "id": "3d343423",
   "metadata": {},
   "source": [
    "The correct answer is:\n",
    "\n",
    "**4. Interviews**\n",
    "\n",
    "### Explanation:\n",
    "\n",
    "* **Interviews** are a common method for gathering **qualitative data** — rich, detailed, and descriptive information about people's experiences, opinions, and behaviors.\n",
    "\n",
    "Other options:\n",
    "\n",
    "* ❌ **1. Surveys** – Usually gather **quantitative data**, though open-ended surveys can collect qualitative input.\n",
    "* ❌ **2. Experiments** – Typically used for **quantitative analysis**.\n",
    "* ✅ **3. Observations** – Can also gather qualitative data, but **interviews** are more direct and in-depth.\n",
    "* ✅ **4. Interviews** – **Best suited** for collecting detailed qualitative data.\n",
    "\n",
    "> 💡 **Note**: Both **interviews** and **observations** are used for qualitative data, but **interviews** are more deliberate and structured for deep insights.\n"
   ]
  },
  {
   "cell_type": "code",
   "execution_count": null,
   "id": "49e16088",
   "metadata": {},
   "outputs": [],
   "source": []
  },
  {
   "cell_type": "markdown",
   "id": "82b213eb",
   "metadata": {},
   "source": [
    "## Q8. Which of the following best describes ratio data? \n",
    "1. Data with equal intervals but no true zero \n",
    "2. Data that can only be categorized \n",
    "3. Data with a true zero point and meaningful intervals \n",
    "4. Data that is non-numeric"
   ]
  },
  {
   "cell_type": "markdown",
   "id": "a814f8af",
   "metadata": {},
   "source": [
    "The correct answer is:\n",
    "\n",
    "**3. Data with a true zero point and meaningful intervals**\n",
    "\n",
    "### Explanation:\n",
    "\n",
    "* **Ratio data** has:\n",
    "\n",
    "  * **Equal intervals** between values (like interval data)\n",
    "  * A **true zero point**, meaning zero indicates the absence of the quantity (e.g., weight, height, income)\n",
    "\n",
    "So:\n",
    "\n",
    "* ❌ **1** describes **interval data** (e.g., temperature in Celsius)\n",
    "* ❌ **2** describes **nominal data**\n",
    "* ✅ **3** is correct — defines **ratio data**\n",
    "* ❌ **4** describes **qualitative** or **categorical data**, not ratio data\n",
    "\n",
    "> 📌 Examples of ratio data: age, length, number of items, time duration.\n"
   ]
  },
  {
   "cell_type": "code",
   "execution_count": null,
   "id": "582fd0d6",
   "metadata": {},
   "outputs": [],
   "source": []
  },
  {
   "cell_type": "markdown",
   "id": "5621393b",
   "metadata": {},
   "source": [
    "## Q9. Which of the following is an example of discrete data? \n",
    "1. Temperature \n",
    "2. Height \n",
    "3. Number of students in a classroom \n",
    "4. Time taken to complete a task"
   ]
  },
  {
   "cell_type": "markdown",
   "id": "6c3a5e00",
   "metadata": {},
   "source": [
    "The correct answer is:\n",
    "\n",
    "**3. Number of students in a classroom**\n",
    "\n",
    "### Explanation:\n",
    "\n",
    "* **Discrete data** consists of **countable values**, often whole numbers, with **no intermediate values** between them.\n",
    "\n",
    "So:\n",
    "\n",
    "* ❌ **1. Temperature** – Continuous (can take any value within a range, including decimals)\n",
    "* ❌ **2. Height** – Continuous (measured, can be 160.5 cm, etc.)\n",
    "* ✅ **3. Number of students** – Discrete (you can't have 25.5 students)\n",
    "* ❌ **4. Time taken** – Continuous (e.g., 3.72 seconds)\n",
    "\n",
    "> 💡 Discrete = **counted** | Continuous = **measured**\n"
   ]
  },
  {
   "cell_type": "code",
   "execution_count": null,
   "id": "f4f9c040",
   "metadata": {},
   "outputs": [],
   "source": []
  },
  {
   "cell_type": "markdown",
   "id": "930ef6c4",
   "metadata": {},
   "source": [
    "## Q10. What are the four levels of measurement in statistics? \n",
    "1. Nominal, ordinal, interval, ratio \n",
    "2. Qualitative, quantitative, structured, unstructured \n",
    "3. Continuous, discrete, balanced, imbalanced \n",
    "4. Primary, secondary, longitudinal, cross-sectional"
   ]
  },
  {
   "cell_type": "markdown",
   "id": "3ae9953f",
   "metadata": {},
   "source": [
    "The correct answer is:\n",
    "\n",
    "**1. Nominal, ordinal, interval, ratio**\n",
    "\n",
    "### Explanation:\n",
    "\n",
    "These are the **four levels of measurement** in statistics:\n",
    "\n",
    "1. **Nominal** – Categories with no order (e.g., gender, colors)\n",
    "2. **Ordinal** – Categories with a meaningful order, but unequal intervals (e.g., rankings)\n",
    "3. **Interval** – Numeric data with equal intervals but **no true zero** (e.g., temperature in Celsius)\n",
    "4. **Ratio** – Numeric data with equal intervals **and a true zero** (e.g., weight, height, age)\n",
    "\n",
    "Other options:\n",
    "\n",
    "* ❌ **2** – Refers to data types/formats, not levels of measurement\n",
    "* ❌ **3** – Mix of data types and unrelated terms\n",
    "* ❌ **4** – Refers to types/sources of data collection, not measurement levels\n"
   ]
  },
  {
   "cell_type": "code",
   "execution_count": null,
   "id": "2998210f",
   "metadata": {},
   "outputs": [],
   "source": []
  },
  {
   "cell_type": "markdown",
   "id": "6898e160",
   "metadata": {},
   "source": [
    "## Q11. Qualitative data is primarily used to : \n",
    "1. Measure numerical values \n",
    "2. Describe attributes or qualities \n",
    "3. Analyze trends over time \n",
    "4. Conduct statistical tests"
   ]
  },
  {
   "cell_type": "markdown",
   "id": "06075151",
   "metadata": {},
   "source": [
    "The correct answer is:\n",
    "\n",
    "**2. Describe attributes or qualities**\n",
    "\n",
    "### Explanation:\n",
    "\n",
    "* **Qualitative data** is **non-numeric** and is used to describe **characteristics, attributes, or qualities**, such as opinions, colors, or emotions.\n",
    "\n",
    "So:\n",
    "\n",
    "* ❌ **1** – Describes **quantitative** data, not qualitative\n",
    "* ✅ **2** – Correct\n",
    "* ❌ **3** – Typically applies to **quantitative** or **time series** data\n",
    "* ❌ **4** – Statistical tests are mainly performed on **quantitative** data, though some non-parametric tests use categorical data\n",
    "\n",
    "> 💡 Examples of qualitative data: gender, customer feedback, product categories.\n"
   ]
  },
  {
   "cell_type": "code",
   "execution_count": null,
   "id": "7c4762db",
   "metadata": {},
   "outputs": [],
   "source": []
  },
  {
   "cell_type": "markdown",
   "id": "8f3fda7a",
   "metadata": {},
   "source": [
    "## Q12. What defines structured data? \n",
    "1. Data that is unorganized and difficult to search \n",
    "2. Data that is highly organized in a predefined format \n",
    "3. Data that is only in text form \n",
    "4. Data that lacks any format"
   ]
  },
  {
   "cell_type": "markdown",
   "id": "2ec2a326",
   "metadata": {},
   "source": [
    "The correct answer is:\n",
    "\n",
    "**2. Data that is highly organized in a predefined format**\n",
    "\n",
    "### Explanation:\n",
    "\n",
    "* **Structured data** is stored in **tables, rows, and columns**, making it **easily searchable and analyzable** (e.g., data in relational databases, Excel sheets).\n",
    "\n",
    "So:\n",
    "\n",
    "* ❌ **1** – Describes **unstructured** data\n",
    "* ✅ **2** – Correct\n",
    "* ❌ **3** – Structured data can be text, numbers, or dates, but not **only** text\n",
    "* ❌ **4** – Describes **unstructured** or **semi-structured** data\n",
    "\n",
    "> 💡 Example of structured data: a customer database with columns like Name, Age, Email, Purchase Amount.\n"
   ]
  },
  {
   "cell_type": "code",
   "execution_count": null,
   "id": "7d285542",
   "metadata": {},
   "outputs": [],
   "source": []
  },
  {
   "cell_type": "markdown",
   "id": "5cb4f848",
   "metadata": {},
   "source": [
    "## Q13. Nominal data is characterized by \n",
    "1. a meaningful order among categories \n",
    "2. Categories with equal intervals \n",
    "3. Distinct groups without any inherent order \n",
    "4. Data that can be measured"
   ]
  },
  {
   "cell_type": "markdown",
   "id": "d3ce3c16",
   "metadata": {},
   "source": [
    "The correct answer is:\n",
    "\n",
    "**3. Distinct groups without any inherent order**\n",
    "\n",
    "### Explanation:\n",
    "\n",
    "* **Nominal data** consists of **categories** that represent **names or labels**.\n",
    "* These categories have **no natural order or ranking**.\n",
    "\n",
    "Examples: gender (male/female), colors (red/blue/green), blood types (A/B/AB/O)\n",
    "\n",
    "So:\n",
    "\n",
    "* ❌ **1** – Describes **ordinal** data (which has a meaningful order)\n",
    "* ❌ **2** – Describes **interval** data\n",
    "* ✅ **3** – Correct\n",
    "* ❌ **4** – Describes **quantitative** (measurable) data, not nominal\n",
    "\n",
    "> 💡 Nominal = **named categories**, no order.\n"
   ]
  },
  {
   "cell_type": "code",
   "execution_count": null,
   "id": "ee394821",
   "metadata": {},
   "outputs": [],
   "source": []
  },
  {
   "cell_type": "markdown",
   "id": "ede2253d",
   "metadata": {},
   "source": [
    "## Q14. Which of the following is an example of a primary data source? \n",
    "1. Census data \n",
    "2. Census data \n",
    "3. Surveys conducted by reseachers \n",
    "4. Market research reports"
   ]
  },
  {
   "cell_type": "markdown",
   "id": "20d2bce5",
   "metadata": {},
   "source": [
    "The correct answer is:\n",
    "\n",
    "**3. Surveys conducted by researchers**\n",
    "\n",
    "### Explanation:\n",
    "\n",
    "* **Primary data** is **collected firsthand** by the researcher for a specific purpose or study (e.g., surveys, interviews, experiments).\n",
    "\n",
    "So:\n",
    "\n",
    "* ❌ **1. Census data** – **Secondary** (collected by government, reused by others)\n",
    "* ✅ **3. Surveys conducted by researchers** – **Primary** (original data collection)\n",
    "* ❌ **4. Market research reports** – Typically **secondary** data, compiled from various sources\n",
    "\n",
    "> 💡 If the data is collected **directly by you or your team**, it's **primary**. If it's already published and you're using it, it's **secondary**.\n"
   ]
  },
  {
   "cell_type": "code",
   "execution_count": null,
   "id": "a5853e28",
   "metadata": {},
   "outputs": [],
   "source": []
  },
  {
   "cell_type": "markdown",
   "id": "d626a1a1",
   "metadata": {},
   "source": [
    "## Q15. TIme series data is specifically focused on \n",
    "1. Data collected at one point in time \n",
    "2. Data recorded at consistent time intervals \n",
    "3. Data that is instructured \n",
    "4. Data from multiple sources"
   ]
  },
  {
   "cell_type": "markdown",
   "id": "80da2ffd",
   "metadata": {},
   "source": [
    "The correct answer is:\n",
    "\n",
    "**2. Data recorded at consistent time intervals**\n",
    "\n",
    "### Explanation:\n",
    "\n",
    "* **Time series data** involves observations collected or recorded **sequentially over time** at **regular intervals** (e.g., daily sales, monthly temperature, yearly GDP).\n",
    "\n",
    "So:\n",
    "\n",
    "* ❌ **1** – Describes **cross-sectional data**\n",
    "* ✅ **2** – Correct\n",
    "* ❌ **3** – Time series data is usually **structured**\n",
    "* ❌ **4** – Refers to **data integration**, not specifically time series\n",
    "\n",
    "> 💡 Key feature of time series: **order matters**, and **timing is consistent**.\n"
   ]
  },
  {
   "cell_type": "code",
   "execution_count": null,
   "id": "a2e45d67",
   "metadata": {},
   "outputs": [],
   "source": []
  },
  {
   "cell_type": "markdown",
   "id": "cca0642a",
   "metadata": {},
   "source": [
    "## Q16. Intervals data differs from ratio data in that: \n",
    "1. Interval data has a true zero point \n",
    "2. Ration data has meaningful intervals \n",
    "3. Intervals data lacks a true zero point \n",
    "4. both are the same"
   ]
  },
  {
   "cell_type": "markdown",
   "id": "3962529d",
   "metadata": {},
   "source": [
    "The correct answer is:\n",
    "\n",
    "**3. Interval data lacks a true zero point**\n",
    "\n",
    "### Explanation:\n",
    "\n",
    "* **Interval data** has equal intervals between values but **no true zero**. Example: temperature in Celsius — 0°C doesn’t mean “no temperature.”\n",
    "* **Ratio data** has both **equal intervals** and a **true zero point**, allowing for meaningful ratios (e.g., weight, height, income).\n",
    "\n",
    "So:\n",
    "\n",
    "* ❌ **1** – False; **ratio**, not interval, has a true zero\n",
    "* ❌ **2** – Misleading; both **interval and ratio** have meaningful intervals\n",
    "* ✅ **3** – Correct\n",
    "* ❌ **4** – False; they are **not** the same\n",
    "\n",
    "> 💡 **Interval = no true zero**, **Ratio = has true zero**.\n"
   ]
  },
  {
   "cell_type": "code",
   "execution_count": null,
   "id": "7756e812",
   "metadata": {},
   "outputs": [],
   "source": []
  },
  {
   "cell_type": "markdown",
   "id": "7ebadf4c",
   "metadata": {},
   "source": [
    "## Q17. What is a major advantage of using primary data? \n",
    "1. It is less expensive than secondary data \n",
    "2. It is always more accurate and relevant \n",
    "3. It is collected first hand for specific research objectives \n",
    "4. It requires less time to collect"
   ]
  },
  {
   "cell_type": "markdown",
   "id": "56ac0d38",
   "metadata": {},
   "source": [
    "The correct answer is:\n",
    "\n",
    "**3. It is collected first hand for specific research objectives**\n",
    "\n",
    "### Explanation:\n",
    "\n",
    "* **Primary data** is collected **directly by the researcher**, tailored to **specific goals**, ensuring high **relevance** to the study.\n",
    "\n",
    "So:\n",
    "\n",
    "* ❌ **1** – False; primary data is usually **more expensive** to collect.\n",
    "* ❌ **2** – Not always true; while often accurate, it depends on the method used.\n",
    "* ✅ **3** – Correct.\n",
    "* ❌ **4** – False; collecting primary data generally takes **more time**.\n",
    "\n",
    "> 💡 Primary data = custom-made for your research = high relevance and control.\n"
   ]
  },
  {
   "cell_type": "code",
   "execution_count": null,
   "id": "6bbc6768",
   "metadata": {},
   "outputs": [],
   "source": []
  },
  {
   "cell_type": "markdown",
   "id": "61c818dd",
   "metadata": {},
   "source": [
    "## Q18. Semi-structured data is characterized by \n",
    "1. A strict schema with no flexibility \n",
    "2. Some organizational properties but no strict format \n",
    "3. Data that is entirely unstructured \n",
    "4. Data that is only numerical"
   ]
  },
  {
   "cell_type": "markdown",
   "id": "4093eb0e",
   "metadata": {},
   "source": [
    "The correct answer is:\n",
    "\n",
    "**2. Some organizational properties but no strict format**\n",
    "\n",
    "### Explanation:\n",
    "\n",
    "* **Semi-structured data** falls between structured and unstructured data. It has **some organization** (like tags or key-value pairs) but doesn't follow a **rigid schema** like structured data.\n",
    "\n",
    "Examples:\n",
    "\n",
    "* JSON files\n",
    "* XML documents\n",
    "* Email logs\n",
    "\n",
    "So:\n",
    "\n",
    "* ❌ **1** – Describes **structured data**\n",
    "* ✅ **2** – Correct\n",
    "* ❌ **3** – Describes **unstructured data**\n",
    "* ❌ **4** – False; semi-structured data can include **text, numbers, or both**\n",
    "\n",
    "> 💡 Semi-structured = **some structure**, but **flexible and irregular**.\n"
   ]
  },
  {
   "cell_type": "code",
   "execution_count": null,
   "id": "a62d8e34",
   "metadata": {},
   "outputs": [],
   "source": []
  },
  {
   "cell_type": "markdown",
   "id": "4dd73ec4",
   "metadata": {},
   "source": [
    "## Q19. Cross-sectional data provides \n",
    "1. A snapshot of variables at a single point in time \n",
    "2. Data collected over multiple time points \n",
    "3. Only qualitative information \n",
    "4. Data from a single entity over time"
   ]
  },
  {
   "cell_type": "markdown",
   "id": "926feeec",
   "metadata": {},
   "source": [
    "The correct answer is:\n",
    "\n",
    "**1. A snapshot of variables at a single point in time**\n",
    "\n",
    "### Explanation:\n",
    "\n",
    "* **Cross-sectional data** is collected from **multiple subjects** (people, organizations, etc.) at **one specific point in time**, providing a **snapshot** of a situation or condition.\n",
    "\n",
    "Examples:\n",
    "\n",
    "* A survey of 1,000 people’s income in **August 2025**\n",
    "* A study of customer satisfaction across companies **today**\n",
    "\n",
    "So:\n",
    "\n",
    "* ✅ **1** – Correct\n",
    "* ❌ **2** – Describes **longitudinal** or **time series** data\n",
    "* ❌ **3** – Cross-sectional data can be **quantitative or qualitative**\n",
    "* ❌ **4** – Describes **longitudinal data** (same entity over time)\n",
    "\n",
    "> 💡 Think of cross-sectional data as a **photo**, while longitudinal/time series is more like a **video over time**.\n"
   ]
  },
  {
   "cell_type": "code",
   "execution_count": null,
   "id": "0c118693",
   "metadata": {},
   "outputs": [],
   "source": []
  },
  {
   "cell_type": "markdown",
   "id": "cf2f632c",
   "metadata": {},
   "source": [
    "## Q20. Imbalanced data can lead to \n",
    "1. More accurate models \n",
    "2. Biased models, especially in classification tasks \n",
    "3. Easier data analysis \n",
    "4. Improved model performance"
   ]
  },
  {
   "cell_type": "markdown",
   "id": "cc0bec6c",
   "metadata": {},
   "source": [
    "The correct answer is:\n",
    "\n",
    "**2. Biased models, especially in classification tasks**\n",
    "\n",
    "### Explanation:\n",
    "\n",
    "* **Imbalanced data** occurs when one class significantly **outnumbers** the other(s) in a classification problem.\n",
    "* This can cause models to **favor the majority class**, leading to **biased predictions** and poor performance on the minority class.\n",
    "\n",
    "For example:\n",
    "In a fraud detection dataset with 98% non-fraud and 2% fraud cases, a model might just predict \"non-fraud\" all the time and still achieve 98% accuracy — but it **fails to detect fraud**.\n",
    "\n",
    "So:\n",
    "\n",
    "* ❌ **1** – Often leads to **less accurate** and **biased** models\n",
    "* ✅ **2** – Correct\n",
    "* ❌ **3** – Analysis becomes **more challenging**, not easier\n",
    "* ❌ **4** – It typically **reduces** model performance, especially on minority classes\n",
    "\n",
    "> 💡 Use techniques like **SMOTE**, **undersampling**, or **class weighting** to address imbalance.\n"
   ]
  },
  {
   "cell_type": "code",
   "execution_count": null,
   "id": "118d4fa2",
   "metadata": {},
   "outputs": [],
   "source": []
  },
  {
   "cell_type": "markdown",
   "id": "831e5b1f",
   "metadata": {},
   "source": [
    "## Q21. Which of the following is a common method for collecting primary data? \n",
    "1. Government reports \n",
    "2. Online databases \n",
    "3. Observations \n",
    "4. Academic journals"
   ]
  },
  {
   "cell_type": "markdown",
   "id": "0122e5f1",
   "metadata": {},
   "source": [
    "The correct answer is:\n",
    "\n",
    "**3. Observations**\n",
    "\n",
    "### Explanation:\n",
    "\n",
    "* **Observations** are a **primary data collection method**, where data is gathered **firsthand** by directly watching subjects or events in real time.\n",
    "\n",
    "So:\n",
    "\n",
    "* ❌ **1. Government reports** – **Secondary data** (already collected and published)\n",
    "* ❌ **2. Online databases** – Typically store **secondary data**\n",
    "* ✅ **3. Observations** – **Primary data** (collected by the researcher)\n",
    "* ❌ **4. Academic journals** – Contain **secondary data** or **summaries** of primary research\n",
    "\n",
    "> 💡 Other primary methods include: **surveys**, **interviews**, **experiments**, and **focus groups**.\n"
   ]
  },
  {
   "cell_type": "code",
   "execution_count": null,
   "id": "52b16d3c",
   "metadata": {},
   "outputs": [],
   "source": []
  },
  {
   "cell_type": "markdown",
   "id": "d2968ba7",
   "metadata": {},
   "source": [
    "## Q22. One disadvantage of using secondary data is \n",
    "1. It is always up-to-date \n",
    "2. It may lack accuracy and reliability \n",
    "3. It is expensive to access \n",
    "4. It is always relevant to the research question"
   ]
  },
  {
   "cell_type": "markdown",
   "id": "5fe940b0",
   "metadata": {},
   "source": [
    "The correct answer is:\n",
    "\n",
    "**2. It may lack accuracy and reliability**\n",
    "\n",
    "### Explanation:\n",
    "\n",
    "* A key disadvantage of **secondary data** is that it was **collected for another purpose**, so it may not be **accurate, reliable, or fully relevant** for your current research.\n",
    "\n",
    "So:\n",
    "\n",
    "* ❌ **1** – False; secondary data can often be **outdated**\n",
    "* ✅ **2** – Correct\n",
    "* ❌ **3** – Usually **less expensive** than collecting primary data\n",
    "* ❌ **4** – Not always relevant; you may need to adjust your research around what's available\n",
    "\n",
    "> 💡 Always evaluate secondary data for **credibility**, **timeliness**, and **relevance** before using it.\n"
   ]
  },
  {
   "cell_type": "code",
   "execution_count": null,
   "id": "fd9a0005",
   "metadata": {},
   "outputs": [],
   "source": []
  },
  {
   "cell_type": "markdown",
   "id": "69375ea4",
   "metadata": {},
   "source": [
    "## Q23. What type of data is collected over a period of time to analyze changes? \n",
    "1. Cross-sectional data \n",
    "2. Longitudinal data \n",
    "3. Time series data \n",
    "4. Structured data"
   ]
  },
  {
   "cell_type": "markdown",
   "id": "318e2e0d",
   "metadata": {},
   "source": [
    "The correct answer is:\n",
    "\n",
    "**2. Longitudinal data**\n",
    "\n",
    "### Explanation:\n",
    "\n",
    "* **Longitudinal data** is collected by **observing the same subjects** repeatedly over a **period of time**, making it ideal for analyzing **changes or developments**.\n",
    "\n",
    "Let’s break down the options:\n",
    "\n",
    "* ❌ **1. Cross-sectional data** – Collected at a **single point in time**\n",
    "* ✅ **2. Longitudinal data** – Correct; tracks changes **over time**\n",
    "* ❌ **3. Time series data** – Focuses on **one variable over time**, not necessarily the **same subjects**\n",
    "* ❌ **4. Structured data** – Refers to **format**, not time or tracking\n",
    "\n",
    "> 💡 Use **longitudinal data** to study trends **within individuals or groups** across time.\n"
   ]
  },
  {
   "cell_type": "code",
   "execution_count": null,
   "id": "a31068d0",
   "metadata": {},
   "outputs": [],
   "source": []
  },
  {
   "cell_type": "markdown",
   "id": "4987be7a",
   "metadata": {},
   "source": [
    "## Q24. What is a key characteristic of unstructured data? \n",
    "1. It has a predefined format \n",
    "2. It is highly organized \n",
    "3. It lacks a specific structure \n",
    "4. It is only numerical"
   ]
  },
  {
   "cell_type": "markdown",
   "id": "009591be",
   "metadata": {},
   "source": [
    "The correct answer is:\n",
    "\n",
    "**3. It lacks a specific structure**\n",
    "\n",
    "### Explanation:\n",
    "\n",
    "* **Unstructured data** does **not follow a predefined format**, making it harder to store, search, and analyze using traditional tools.\n",
    "\n",
    "Examples include:\n",
    "\n",
    "* Emails\n",
    "* Videos\n",
    "* Social media posts\n",
    "* Images\n",
    "* Text documents\n",
    "\n",
    "So:\n",
    "\n",
    "* ❌ **1** – Describes **structured** data\n",
    "* ❌ **2** – Opposite of unstructured; unstructured data is **not organized**\n",
    "* ✅ **3** – Correct\n",
    "* ❌ **4** – Unstructured data is often **textual or multimedia**, not just numerical\n",
    "\n",
    "> 💡 Unstructured data = **free-form**, flexible, and often **rich in information**, but harder to analyze directly.\n"
   ]
  },
  {
   "cell_type": "code",
   "execution_count": null,
   "id": "c3ea82e0",
   "metadata": {},
   "outputs": [],
   "source": []
  },
  {
   "cell_type": "markdown",
   "id": "adc25db6",
   "metadata": {},
   "source": [
    "## Q25. What is a common source of secondary data? \n",
    "1. Personal interviews \n",
    "2. Market research reports \n",
    "3. Observational studies \n",
    "4. Experimental data"
   ]
  },
  {
   "cell_type": "markdown",
   "id": "28af3cea",
   "metadata": {},
   "source": [
    "The correct answer is:\n",
    "\n",
    "**2. Market research reports**\n",
    "\n",
    "### Explanation:\n",
    "\n",
    "* **Secondary data** is data that has already been **collected and published** by someone else.\n",
    "* **Market research reports** are a typical source, often created by research firms, and reused for analysis or decision-making.\n",
    "\n",
    "So:\n",
    "\n",
    "* ❌ **1. Personal interviews** – A method of collecting **primary data**\n",
    "* ✅ **2. Market research reports** – Correct; a **common secondary source**\n",
    "* ❌ **3. Observational studies** – Usually involve **primary data collection**\n",
    "* ❌ **4. Experimental data** – Typically collected firsthand → **primary data**\n",
    "\n",
    "> 💡 Always assess secondary data for **relevance, accuracy, and credibility** before using it.\n"
   ]
  },
  {
   "cell_type": "code",
   "execution_count": null,
   "id": "a7d88668",
   "metadata": {},
   "outputs": [],
   "source": []
  },
  {
   "cell_type": "markdown",
   "id": "0b51bb4b",
   "metadata": {},
   "source": [
    "## Q26. What type of data is often represented in categories or labels? \n",
    "1. Quantitative data \n",
    "2. Structured data \n",
    "3. Qualitative data \n",
    "4. Continuous data"
   ]
  },
  {
   "cell_type": "markdown",
   "id": "f9c8432d",
   "metadata": {},
   "source": [
    "The correct answer is:\n",
    "\n",
    "**3. Qualitative data**\n",
    "\n",
    "### Explanation:\n",
    "\n",
    "* **Qualitative data** is typically represented using **categories or labels**, such as names, colors, or types. It **describes** rather than **measures**.\n",
    "\n",
    "Examples:\n",
    "\n",
    "* Gender (male/female)\n",
    "* Car brand (Toyota, Ford, Honda)\n",
    "* Eye color (blue, green, brown)\n",
    "\n",
    "So:\n",
    "\n",
    "* ❌ **1. Quantitative data** – Deals with **numbers and measurable values**\n",
    "* ❌ **2. Structured data** – Refers to **format**, not necessarily categories or labels\n",
    "* ✅ **3. Qualitative data** – Correct\n",
    "* ❌ **4. Continuous data** – A type of **quantitative data** that can take any value in a range\n",
    "\n",
    "> 💡 Qualitative = **descriptive**, Quantitative = **numerical**.\n"
   ]
  },
  {
   "cell_type": "code",
   "execution_count": null,
   "id": "de87839b",
   "metadata": {},
   "outputs": [],
   "source": []
  },
  {
   "cell_type": "markdown",
   "id": "aa9a0c85",
   "metadata": {},
   "source": [
    "## Q27. Which of the following is true about structured data? \n",
    "1. It is difficult to search and analyze \n",
    "2. It is organized in a predefined format \n",
    "3. It is always unstructured \n",
    "4. It cannot be stored in databases"
   ]
  },
  {
   "cell_type": "markdown",
   "id": "bdc2e832",
   "metadata": {},
   "source": [
    "The correct answer is:\n",
    "\n",
    "**2. It is organized in a predefined format**\n",
    "\n",
    "### Explanation:\n",
    "\n",
    "* **Structured data** is **highly organized** and stored in a **predefined schema**, such as rows and columns in a database, making it **easy to search, analyze, and manage**.\n",
    "\n",
    "Examples:\n",
    "\n",
    "* Excel spreadsheets\n",
    "* SQL databases\n",
    "* Customer information tables\n",
    "\n",
    "So:\n",
    "\n",
    "* ❌ **1** – False; it's actually **easy** to search and analyze\n",
    "* ✅ **2** – Correct\n",
    "* ❌ **3** – Contradictory; structured data is the **opposite** of unstructured\n",
    "* ❌ **4** – False; structured data is **ideal** for databases\n",
    "\n",
    "> 💡 Structured data = **organized**, **searchable**, and **stored in tables**.\n"
   ]
  },
  {
   "cell_type": "code",
   "execution_count": null,
   "id": "9f41ce82",
   "metadata": {},
   "outputs": [],
   "source": []
  },
  {
   "cell_type": "markdown",
   "id": "340c01dd",
   "metadata": {},
   "source": [
    "## Q28. Which data type would you use to measure temperature in Celsius? \n",
    "1. Nominal \n",
    "2. Ordinal \n",
    "3. Interval \n",
    "4. Ratio"
   ]
  },
  {
   "cell_type": "markdown",
   "id": "ca301f85",
   "metadata": {},
   "source": [
    "The correct answer is:\n",
    "\n",
    "**3. Interval**\n",
    "\n",
    "### Explanation:\n",
    "\n",
    "* **Temperature in Celsius** is **interval data** because:\n",
    "\n",
    "  * The intervals between values are **equal** (e.g., the difference between 20°C and 30°C is the same as between 30°C and 40°C)\n",
    "  * But it **lacks a true zero** — 0°C does **not** mean \"no temperature\"\n",
    "\n",
    "So:\n",
    "\n",
    "* ❌ **1. Nominal** – Used for **categories without order** (e.g., colors, gender)\n",
    "* ❌ **2. Ordinal** – Used for **ranked categories** (e.g., small, medium, large)\n",
    "* ✅ **3. Interval** – Correct\n",
    "* ❌ **4. Ratio** – Requires a **true zero**, which Celsius scale doesn't have\n",
    "\n",
    "> 💡 If the data has equal spacing **and** a true zero (like weight), it’s **ratio**. Without a true zero, it’s **interval**.\n"
   ]
  },
  {
   "cell_type": "code",
   "execution_count": null,
   "id": "7b3d6e00",
   "metadata": {},
   "outputs": [],
   "source": []
  },
  {
   "cell_type": "markdown",
   "id": "138837c3",
   "metadata": {},
   "source": [
    "## Q29. Which of the following describes a characteristics of balanced data? \n",
    "1. Uneven distribution of classes \n",
    "2. Equal representation of all categories \n",
    "3. Data collected at one point in time \n",
    "4. Data that is only qualitative"
   ]
  },
  {
   "cell_type": "markdown",
   "id": "2dee822f",
   "metadata": {},
   "source": [
    "The correct answer is:\n",
    "\n",
    "**2. Equal representation of all categories**\n",
    "\n",
    "### Explanation:\n",
    "\n",
    "* **Balanced data** refers to datasets (especially in classification tasks) where **each class or category is represented equally** or nearly equally.\n",
    "\n",
    "For example, in a binary classification problem:\n",
    "\n",
    "* Balanced: 500 positive and 500 negative cases\n",
    "* Imbalanced: 950 negative and 50 positive cases\n",
    "\n",
    "So:\n",
    "\n",
    "* ❌ **1** – Describes **imbalanced data**\n",
    "* ✅ **2** – Correct\n",
    "* ❌ **3** – Describes **cross-sectional data**, not balanced data\n",
    "* ❌ **4** – Balanced data can be **qualitative or quantitative**\n",
    "\n",
    "> 💡 Balanced datasets help improve **model fairness and accuracy**, especially in **machine learning**.\n"
   ]
  },
  {
   "cell_type": "code",
   "execution_count": null,
   "id": "ac1d7924",
   "metadata": {},
   "outputs": [],
   "source": []
  },
  {
   "cell_type": "markdown",
   "id": "074a671e",
   "metadata": {},
   "source": [
    "## Q30. When would you prefer to use qualitative data over quantitative data? \n",
    "1. When you need precise measurements \n",
    "2. When exploring opinions and perceptions \n",
    "3. When counting occurrences \n",
    "4. When analyzing numerical trends"
   ]
  },
  {
   "cell_type": "markdown",
   "id": "c36d1a9a",
   "metadata": {},
   "source": [
    "The correct answer is:\n",
    "\n",
    "**2. When exploring opinions and perceptions**\n",
    "\n",
    "### Explanation:\n",
    "\n",
    "* **Qualitative data** is best used when you're interested in understanding **experiences, thoughts, motivations, and perceptions** — things that can't easily be measured numerically.\n",
    "\n",
    "Examples:\n",
    "\n",
    "* Customer feedback\n",
    "* Interview responses\n",
    "* Open-ended survey questions\n",
    "\n",
    "So:\n",
    "\n",
    "* ❌ **1** – Requires **quantitative** data\n",
    "* ✅ **2** – Correct\n",
    "* ❌ **3** – Involves **counting**, which is **quantitative**\n",
    "* ❌ **4** – Also refers to **quantitative** analysis\n",
    "\n",
    "> 💡 Use **qualitative** data for depth and context; use **quantitative** for measurement and comparison.\n"
   ]
  },
  {
   "cell_type": "code",
   "execution_count": null,
   "id": "4cd8eaba",
   "metadata": {},
   "outputs": [],
   "source": []
  },
  {
   "cell_type": "code",
   "execution_count": null,
   "id": "7876e8cc",
   "metadata": {},
   "outputs": [],
   "source": []
  },
  {
   "cell_type": "code",
   "execution_count": null,
   "id": "a03d37bf",
   "metadata": {},
   "outputs": [],
   "source": []
  },
  {
   "cell_type": "code",
   "execution_count": null,
   "id": "dca9b94f",
   "metadata": {},
   "outputs": [],
   "source": []
  }
 ],
 "metadata": {
  "language_info": {
   "name": "python"
  }
 },
 "nbformat": 4,
 "nbformat_minor": 5
}
