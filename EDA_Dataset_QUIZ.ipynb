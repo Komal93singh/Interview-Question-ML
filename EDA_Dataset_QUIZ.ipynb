{
 "cells": [
  {
   "cell_type": "code",
   "execution_count": null,
   "id": "0ae11cca",
   "metadata": {
    "vscode": {
     "languageId": "plaintext"
    }
   },
   "outputs": [],
   "source": []
  },
  {
   "cell_type": "markdown",
   "id": "229bac2c",
   "metadata": {},
   "source": [
    "# QUIZ : EDA DATASET\n",
    "---"
   ]
  },
  {
   "cell_type": "code",
   "execution_count": null,
   "id": "92bf9fa3",
   "metadata": {
    "vscode": {
     "languageId": "plaintext"
    }
   },
   "outputs": [],
   "source": []
  },
  {
   "cell_type": "markdown",
   "id": "3380bec3",
   "metadata": {},
   "source": [
    "## 1. What does the data. Head() function do in pandas? \n",
    "1. Displays the shape of the dataset \n",
    "2. Displays the first few rows of the dataset \n",
    "3. Displays the last few rows of the dataset \n",
    "4. Displays the data types of each column"
   ]
  },
  {
   "cell_type": "markdown",
   "id": "8cdc9bca",
   "metadata": {},
   "source": [
    "The correct answer is:\n",
    "**2. Displays the first few rows of the dataset**\n",
    "\n",
    "### Explanation:\n",
    "\n",
    "In **Pandas**, the `data.head()` function returns the **first 5 rows** of the DataFrame by default.\n",
    "You can also specify the number of rows, e.g., `data.head(10)` will return the first 10 rows.\n",
    "\n",
    "---\n",
    "\n",
    "Here’s an example:\n",
    "\n",
    "```python\n",
    "import pandas as pd\n",
    "\n",
    "df = pd.read_csv(\"data.csv\")\n",
    "print(df.head())\n",
    "```\n",
    "\n",
    "This helps in **previewing the dataset**, especially when it's large.\n"
   ]
  },
  {
   "cell_type": "code",
   "execution_count": null,
   "id": "8696aeec",
   "metadata": {
    "vscode": {
     "languageId": "plaintext"
    }
   },
   "outputs": [],
   "source": []
  },
  {
   "cell_type": "markdown",
   "id": "2d514ff1",
   "metadata": {},
   "source": [
    "## 2. Which plot type is used to show the frequency distribution of a single categorical variable? \n",
    "1. Histogram \n",
    "2. Bar Chart \n",
    "3. Bar Chart \n",
    "4. Bar Chart"
   ]
  },
  {
   "cell_type": "markdown",
   "id": "2d482d90",
   "metadata": {},
   "source": [
    "The correct answer is:\n",
    "**2. Bar Chart**\n",
    "\n",
    "However, the options seem to have a typo (repeating **Bar Chart** multiple times). Ideally, the options should look like:\n",
    "\n",
    "1. Histogram\n",
    "2. Bar Chart\n",
    "3. Pie Chart\n",
    "4. Line Chart\n",
    "\n",
    "### Explanation:\n",
    "\n",
    "* A **bar chart** is used to show the **frequency distribution** of a **single categorical variable**.\n",
    "* It displays **categories** on the x-axis and their **frequencies** (counts) on the y-axis.\n",
    "\n",
    "### Note:\n",
    "\n",
    "* **Histogram** is for **numerical (continuous)** data, not categorical.\n",
    "\n",
    "\n"
   ]
  },
  {
   "cell_type": "code",
   "execution_count": null,
   "id": "238097e3",
   "metadata": {
    "vscode": {
     "languageId": "plaintext"
    }
   },
   "outputs": [],
   "source": []
  },
  {
   "cell_type": "markdown",
   "id": "0640d3d2",
   "metadata": {},
   "source": [
    "## 3. Which function is used in seaborn to create a heatmap? \n",
    "1. sns.heatmap() \n",
    "2. sns.boxplot() \n",
    "3. sns.scatterplot() \n",
    "4. sns.hisplot()"
   ]
  },
  {
   "cell_type": "markdown",
   "id": "29ba2d6e",
   "metadata": {},
   "source": [
    "The correct answer is:\n",
    "**1. `sns.heatmap()`**\n",
    "\n",
    "### Explanation:\n",
    "\n",
    "In the **Seaborn** library, `sns.heatmap()` is used to create a **heatmap**, which is a graphical representation of data where individual values are represented as colors.\n",
    "\n",
    "### Example:\n",
    "\n",
    "```python\n",
    "import seaborn as sns\n",
    "import matplotlib.pyplot as plt\n",
    "import pandas as pd\n",
    "\n",
    "# Example data\n",
    "data = pd.DataFrame({\n",
    "    'A': [1, 2, 3],\n",
    "    'B': [4, 5, 6],\n",
    "    'C': [7, 8, 9]\n",
    "})\n",
    "\n",
    "sns.heatmap(data, annot=True)\n",
    "plt.show()\n",
    "```\n",
    "\n",
    "---\n",
    "\n",
    "Other options:\n",
    "\n",
    "* `sns.boxplot()` → Used for box plots (distribution and outliers)\n",
    "* `sns.scatterplot()` → Used for scatter plots (relationship between two numeric variables)\n",
    "* `sns.hisplot()` → **Incorrect spelling**, the correct one is `sns.histplot()` (for histograms)\n",
    "\n"
   ]
  },
  {
   "cell_type": "code",
   "execution_count": null,
   "id": "d00e776d",
   "metadata": {
    "vscode": {
     "languageId": "plaintext"
    }
   },
   "outputs": [],
   "source": []
  },
  {
   "cell_type": "markdown",
   "id": "1e149e59",
   "metadata": {},
   "source": [
    "## 4. Which of the following plots would best display the count of passengers who survived? \n",
    "1. Scatter Plot \n",
    "2. Bar Chart \n",
    "3. Box Plot \n",
    "4. Density Plot"
   ]
  },
  {
   "cell_type": "markdown",
   "id": "25c06ed3",
   "metadata": {},
   "source": [
    "The correct answer is:\n",
    "**2. Bar Chart**\n",
    "\n",
    "---\n",
    "\n",
    "### ✅ Explanation:\n",
    "\n",
    "To display the **count** of passengers who **survived**, you're working with **categorical data** (e.g., \"Survived\" = Yes/No or 0/1).\n",
    "\n",
    "A **bar chart** is best suited for:\n",
    "\n",
    "* **Categorical variables**\n",
    "* Showing the **frequency/count** of each category\n",
    "\n",
    "---\n",
    "\n",
    "### Other Options:\n",
    "\n",
    "1. **Scatter Plot** – Used to show relationships between two **numeric** variables\n",
    "2. **Box Plot** – Shows distribution, median, and outliers of a **numerical** variable\n",
    "3. **Density Plot** – Estimates the **distribution** of a **continuous** variable\n",
    "\n",
    "---\n",
    "\n",
    "### Example in code:\n",
    "\n",
    "```python\n",
    "import seaborn as sns\n",
    "import matplotlib.pyplot as plt\n",
    "\n",
    "# Example: Titanic dataset\n",
    "titanic = sns.load_dataset('titanic')\n",
    "sns.countplot(x='survived', data=titanic)\n",
    "plt.title('Count of Passengers Who Survived')\n",
    "plt.show()\n",
    "```\n",
    "\n"
   ]
  },
  {
   "cell_type": "code",
   "execution_count": null,
   "id": "5a46aff0",
   "metadata": {
    "vscode": {
     "languageId": "plaintext"
    }
   },
   "outputs": [],
   "source": []
  },
  {
   "cell_type": "markdown",
   "id": "f393dd66",
   "metadata": {},
   "source": [
    "## 5. In which plot is the area of slices proportional to the values they represent? \n",
    "1. Scatter plot \n",
    "2. Histogram \n",
    "3. Box Plot \n",
    "4. Pie Chart"
   ]
  },
  {
   "cell_type": "markdown",
   "id": "05573605",
   "metadata": {},
   "source": [
    "The correct answer is:\n",
    "**4. Pie Chart**\n",
    "\n",
    "---\n",
    "\n",
    "### ✅ Explanation:\n",
    "\n",
    "In a **pie chart**, the **area of each slice** (or sector) is **proportional** to the value it represents relative to the whole. It's used to show **percentage or part-to-whole relationships** for **categorical data**.\n",
    "\n",
    "---\n",
    "\n",
    "### Other Options:\n",
    "\n",
    "1. **Scatter Plot** – Displays individual data points, showing relationships between two variables\n",
    "2. **Histogram** – Shows frequency distribution of **continuous** numerical data\n",
    "3. **Box Plot** – Displays distribution, median, quartiles, and outliers of a **numerical** variable\n",
    "\n",
    "---\n",
    "\n",
    "### Example:\n",
    "\n",
    "```python\n",
    "import matplotlib.pyplot as plt\n",
    "\n",
    "labels = ['Apples', 'Bananas', 'Cherries']\n",
    "sizes = [30, 45, 25]\n",
    "\n",
    "plt.pie(sizes, labels=labels, autopct='%1.1f%%')\n",
    "plt.title('Fruit Distribution')\n",
    "plt.show()\n",
    "```\n",
    "\n"
   ]
  },
  {
   "cell_type": "code",
   "execution_count": null,
   "id": "861977f6",
   "metadata": {
    "vscode": {
     "languageId": "plaintext"
    }
   },
   "outputs": [],
   "source": []
  },
  {
   "cell_type": "markdown",
   "id": "1b4d1e3e",
   "metadata": {},
   "source": [
    "## 6. What type of plot would you use to compare the median fare across different passenger classes? \n",
    "1. Scatter plot \n",
    "2. Box plot \n",
    "3. Pie Chart \n",
    "4. Histogram"
   ]
  },
  {
   "cell_type": "markdown",
   "id": "b2a48c33",
   "metadata": {},
   "source": [
    "The correct answer is:\n",
    "**2. Box Plot**\n",
    "\n",
    "---\n",
    "\n",
    "### ✅ Explanation:\n",
    "\n",
    "A **box plot** is ideal for comparing **distributions** (like **median**, **quartiles**, and **outliers**) across **different categories**, such as **passenger classes**.\n",
    "\n",
    "In this case, it helps visualize how the **fare** varies across **passenger classes**, including the **median fare**.\n",
    "\n",
    "---\n",
    "\n",
    "### Why Not the Others?\n",
    "\n",
    "1. **Scatter Plot** – Shows relationships between two continuous variables\n",
    "2. **Pie Chart** – Shows proportions, not distributions or medians\n",
    "3. **Histogram** – Shows frequency distribution of a **single** continuous variable, not grouped comparisons\n",
    "\n",
    "---\n",
    "\n",
    "### Example in code:\n",
    "\n",
    "```python\n",
    "import seaborn as sns\n",
    "import matplotlib.pyplot as plt\n",
    "\n",
    "# Titanic dataset example\n",
    "titanic = sns.load_dataset(\"titanic\")\n",
    "\n",
    "sns.boxplot(x='pclass', y='fare', data=titanic)\n",
    "plt.title('Median Fare by Passenger Class')\n",
    "plt.show()\n",
    "```\n"
   ]
  },
  {
   "cell_type": "code",
   "execution_count": null,
   "id": "eb255601",
   "metadata": {
    "vscode": {
     "languageId": "plaintext"
    }
   },
   "outputs": [],
   "source": []
  },
  {
   "cell_type": "markdown",
   "id": "3182b9ca",
   "metadata": {},
   "source": [
    "## 7. Which of the following represents the most frequent value in a dataset? \n",
    "1. Mean \n",
    "2. Median \n",
    "3. Mode \n",
    "4. Standard Deviation"
   ]
  },
  {
   "cell_type": "markdown",
   "id": "7a1640a7",
   "metadata": {},
   "source": [
    "The correct answer is:\n",
    "**3. Mode**\n",
    "\n",
    "---\n",
    "\n",
    "### ✅ Explanation:\n",
    "\n",
    "* **Mode** is the value that **appears most frequently** in a dataset.\n",
    "* It can be used for **both categorical and numerical** data.\n",
    "\n",
    "---\n",
    "\n",
    "### Other Options:\n",
    "\n",
    "1. **Mean** – The **average** value\n",
    "2. **Median** – The **middle** value when data is sorted\n",
    "3. **Standard Deviation** – Measures the **spread or dispersion** of the data\n",
    "\n",
    "---\n",
    "\n",
    "### Example in Python:\n",
    "\n",
    "```python\n",
    "import pandas as pd\n",
    "\n",
    "data = [1, 2, 2, 3, 4, 4, 4, 5]\n",
    "\n",
    "mode_value = pd.Series(data).mode()\n",
    "print(\"Mode:\", mode_value.values)\n",
    "```\n",
    "\n",
    "This will return `4` as the mode, since it appears most often.\n"
   ]
  },
  {
   "cell_type": "code",
   "execution_count": null,
   "id": "b80dfd3f",
   "metadata": {
    "vscode": {
     "languageId": "plaintext"
    }
   },
   "outputs": [],
   "source": []
  },
  {
   "cell_type": "markdown",
   "id": "2c452e37",
   "metadata": {},
   "source": [
    "## 8. What does a high standard deviation indicate? \n",
    "1. Data points are close to the mean \n",
    "2. Data points are spread out over a wide range \n",
    "3. There is no variability in the data \n",
    "4. Data points are normally distributed"
   ]
  },
  {
   "cell_type": "markdown",
   "id": "b00dd899",
   "metadata": {},
   "source": [
    "The correct answer is:\n",
    "**2. Data points are spread out over a wide range**\n",
    "\n",
    "---\n",
    "\n",
    "### ✅ Explanation:\n",
    "\n",
    "* A **high standard deviation** means that the **data points vary greatly** from the **mean** — they are **more spread out**.\n",
    "* It indicates **greater variability** in the dataset.\n",
    "\n",
    "---\n",
    "\n",
    "### Other Options:\n",
    "\n",
    "1. **Data points are close to the mean** → This is true for **low standard deviation**\n",
    "2. **No variability in the data** → This would mean the **standard deviation is zero**\n",
    "3. **Data points are normally distributed** → Standard deviation doesn't **guarantee** normal distribution; it just describes **spread**\n",
    "\n",
    "---\n",
    "\n",
    "### Visual Tip:\n",
    "\n",
    "* **Low SD** → Tall, narrow bell curve\n",
    "* **High SD** → Wide, flat bell curve\n"
   ]
  },
  {
   "cell_type": "code",
   "execution_count": null,
   "id": "193718f1",
   "metadata": {
    "vscode": {
     "languageId": "plaintext"
    }
   },
   "outputs": [],
   "source": []
  },
  {
   "cell_type": "markdown",
   "id": "fdbd9c4d",
   "metadata": {},
   "source": [
    "## 9. Which Pandas function is used to identify numerical columns in a dataset? \n",
    "1. select_columns() \n",
    "2. select_dtypes(include=['object']) \n",
    "3. select_dtypes(include=['int64', 'float64']) \n",
    "4. get_dtypes()"
   ]
  },
  {
   "cell_type": "markdown",
   "id": "92990b30",
   "metadata": {},
   "source": [
    "The correct answer is:\n",
    "**3. `select_dtypes(include=['int64', 'float64'])`**\n",
    "\n",
    "---\n",
    "\n",
    "### ✅ Explanation:\n",
    "\n",
    "To identify or select **numerical columns** in a Pandas DataFrame, you use:\n",
    "\n",
    "```python\n",
    "df.select_dtypes(include=['int64', 'float64'])\n",
    "```\n",
    "\n",
    "This filters only the columns with **numeric** data types like integers and floats.\n",
    "\n",
    "---\n",
    "\n",
    "### Other Options:\n",
    "\n",
    "1. **`select_columns()`** – ❌ Not a valid Pandas function\n",
    "2. **`select_dtypes(include=['object'])`** – ✅ Selects **categorical/text** columns, not numerical\n",
    "3. **`get_dtypes()`** – ❌ No such function; the correct one is `df.dtypes` to view column types\n",
    "\n",
    "---\n",
    "\n",
    "### Example:\n",
    "\n",
    "```python\n",
    "import pandas as pd\n",
    "\n",
    "df = pd.DataFrame({\n",
    "    'age': [25, 30, 22],\n",
    "    'name': ['Alice', 'Bob', 'Charlie'],\n",
    "    'salary': [50000.0, 60000.5, 52000.0]\n",
    "})\n",
    "\n",
    "numerical_cols = df.select_dtypes(include=['int64', 'float64'])\n",
    "print(numerical_cols)\n",
    "```\n",
    "\n"
   ]
  },
  {
   "cell_type": "code",
   "execution_count": null,
   "id": "823c7963",
   "metadata": {
    "vscode": {
     "languageId": "plaintext"
    }
   },
   "outputs": [],
   "source": []
  },
  {
   "cell_type": "markdown",
   "id": "92fc90e9",
   "metadata": {},
   "source": [
    "## 10. Why is it important to separate the dataset into numerical and categorical columns? \n",
    "1. To perform data quality checks \n",
    "2. To perform data quality checks \n",
    "3. To handle missing values \n",
    "4. To merge the data with other datasets"
   ]
  },
  {
   "cell_type": "markdown",
   "id": "8b46188e",
   "metadata": {},
   "source": [
    "The correct answer is:\n",
    "**2. To handle missing values**\n",
    "\n",
    "---\n",
    "\n",
    "### ✅ Explanation:\n",
    "\n",
    "Separating a dataset into **numerical** and **categorical** columns is important because:\n",
    "\n",
    "* **Different data types require different preprocessing techniques.**\n",
    "* For example:\n",
    "\n",
    "  * **Numerical columns** may use **mean/median imputation** for missing values.\n",
    "  * **Categorical columns** may use **mode imputation** or **fill with 'Unknown'**.\n",
    "\n",
    "---\n",
    "\n",
    "### Why Not the Others?\n",
    "\n",
    "1. **To perform data quality checks** – While true, it's **not the main reason** for separation.\n",
    "2. *(Duplicate option)*\n",
    "3. **To merge the data with other datasets** – Merging is based on keys and structure, not necessarily data type separation.\n",
    "\n",
    "---\n",
    "\n",
    "### Summary:\n",
    "\n",
    "Separating columns helps you apply the **right preprocessing methods**, especially for:\n",
    "\n",
    "* Handling **missing values**\n",
    "* **Encoding categorical** variables\n",
    "* **Scaling** numerical variables\n",
    "\n"
   ]
  },
  {
   "cell_type": "code",
   "execution_count": null,
   "id": "1a821fbd",
   "metadata": {
    "vscode": {
     "languageId": "plaintext"
    }
   },
   "outputs": [],
   "source": []
  },
  {
   "cell_type": "markdown",
   "id": "95afeda1",
   "metadata": {},
   "source": [
    "## 11. What is the purpose of examining unique values in categorical columns? \n",
    "1. To find the average of numerical columns \n",
    "2. To identify the distribution of data within each category \n",
    "3. To check for missing values \n",
    "4. To calculate variance and standard deviation"
   ]
  },
  {
   "cell_type": "markdown",
   "id": "ae3ba2c4",
   "metadata": {},
   "source": [
    "The correct answer is:\n",
    "**2. To identify the distribution of data within each category**\n",
    "\n",
    "---\n",
    "\n",
    "### ✅ Explanation:\n",
    "\n",
    "* Examining **unique values** in **categorical columns** helps you:\n",
    "\n",
    "  * Understand how many **distinct categories** exist\n",
    "  * Identify **data distribution**, imbalance, or unexpected entries\n",
    "  * Detect potential **typos** or **inconsistencies** in categories\n",
    "\n",
    "---\n",
    "\n",
    "### Other Options:\n",
    "\n",
    "1. **To find the average of numerical columns** → Not related to categorical data\n",
    "2. **To check for missing values** → You’d use `.isnull()` or `.info()`, not `.unique()`\n",
    "3. **To calculate variance and standard deviation** → These apply to **numerical** data only\n",
    "\n",
    "---\n",
    "\n",
    "### Example in code:\n",
    "\n",
    "```python\n",
    "import pandas as pd\n",
    "\n",
    "df = pd.DataFrame({\n",
    "    'Color': ['Red', 'Blue', 'Red', 'Green', 'Blue', 'Green', 'Blue']\n",
    "})\n",
    "\n",
    "print(df['Color'].unique())  # Shows: ['Red' 'Blue' 'Green']\n",
    "print(df['Color'].value_counts())  # Shows count for each\n",
    "```\n",
    "\n"
   ]
  },
  {
   "cell_type": "code",
   "execution_count": null,
   "id": "ffdd3c60",
   "metadata": {
    "vscode": {
     "languageId": "plaintext"
    }
   },
   "outputs": [],
   "source": []
  },
  {
   "cell_type": "markdown",
   "id": "e8cd5645",
   "metadata": {},
   "source": [
    "## 12. What does a data dictionary provide in the context of a dataset? \n",
    "1. It lists the columns and their unique values \n",
    "2. It provide an overview, data types, and descriptions of the columns \n",
    "3. It displays the statistical summary of the dataset \n",
    "4. It checks for missing values and duplicates"
   ]
  },
  {
   "cell_type": "markdown",
   "id": "a325d3cf",
   "metadata": {},
   "source": [
    "The correct answer is:\n",
    "**2. It provides an overview, data types, and descriptions of the columns**\n",
    "\n",
    "---\n",
    "\n",
    "### ✅ Explanation:\n",
    "\n",
    "A **data dictionary** is a document or table that describes the structure and details of a dataset. It typically includes:\n",
    "\n",
    "* **Column names**\n",
    "* **Data types**\n",
    "* **Descriptions or definitions** of each column\n",
    "* **Units** (if applicable)\n",
    "* **Allowed or expected values** (especially for categorical fields)\n",
    "\n",
    "---\n",
    "\n",
    "### Other Options:\n",
    "\n",
    "1. **It lists the columns and their unique values** → That’s only a small part of what a data dictionary may contain\n",
    "2. **It displays the statistical summary** → That’s what `df.describe()` does\n",
    "3. **It checks for missing values and duplicates** → That’s part of **data cleaning**, not what a data dictionary does\n",
    "\n",
    "---\n",
    "\n",
    "### Example:\n",
    "\n",
    "| Column Name | Data Type | Description              | Example Values   |\n",
    "| ----------- | --------- | ------------------------ | ---------------- |\n",
    "| age         | int       | Age of the person        | 25, 30, 45       |\n",
    "| gender      | object    | Gender of the individual | Male, Female     |\n",
    "| salary      | float     | Monthly salary in USD    | 50000.0, 62000.5 |\n",
    "\n"
   ]
  },
  {
   "cell_type": "code",
   "execution_count": null,
   "id": "21b0244c",
   "metadata": {
    "vscode": {
     "languageId": "plaintext"
    }
   },
   "outputs": [],
   "source": []
  },
  {
   "cell_type": "markdown",
   "id": "b27da3e2",
   "metadata": {},
   "source": [
    "## 13. What does data.isnull().sum() in Pandas do? \n",
    "1. Identifies missing values in the dataset \n",
    "2. Removes duplicates from the dataset \n",
    "3. Converts data types to the correct format \n",
    "4. Creates a summary of the dataset"
   ]
  },
  {
   "cell_type": "markdown",
   "id": "5ab8e269",
   "metadata": {},
   "source": [
    "The correct answer is:\n",
    "**1. Identifies missing values in the dataset**\n",
    "\n",
    "---\n",
    "\n",
    "### ✅ Explanation:\n",
    "\n",
    "In **Pandas**, the function:\n",
    "\n",
    "```python\n",
    "data.isnull().sum()\n",
    "```\n",
    "\n",
    "does the following:\n",
    "\n",
    "* `data.isnull()` → Returns a **DataFrame of booleans** (True where the value is missing/NaN)\n",
    "* `.sum()` → Adds up the `True` values **column-wise**, giving the **count of missing values** in each column\n",
    "\n",
    "---\n",
    "\n",
    "### Example:\n",
    "\n",
    "```python\n",
    "import pandas as pd\n",
    "\n",
    "df = pd.DataFrame({\n",
    "    'name': ['Alice', 'Bob', None],\n",
    "    'age': [25, None, 30]\n",
    "})\n",
    "\n",
    "print(df.isnull().sum())\n",
    "```\n",
    "\n",
    "**Output:**\n",
    "\n",
    "```\n",
    "name    1\n",
    "age     1\n",
    "dtype: int64\n",
    "```\n",
    "\n",
    "---\n",
    "\n",
    "### Other Options:\n",
    "\n",
    "2. **Removes duplicates** → Done using `data.drop_duplicates()`\n",
    "3. **Converts data types** → Use `data.astype()`\n",
    "4. **Creates a summary** → Use `data.describe()` or `data.info()`\n",
    "\n"
   ]
  },
  {
   "cell_type": "code",
   "execution_count": null,
   "id": "6a3c8400",
   "metadata": {
    "vscode": {
     "languageId": "plaintext"
    }
   },
   "outputs": [],
   "source": []
  },
  {
   "cell_type": "markdown",
   "id": "d0c657d9",
   "metadata": {},
   "source": [
    "## 14. Why is it important to check for duplicates in a dataset? \n",
    "1. To increase the size of the dataset \n",
    "2. To ensure each observation is unique \n",
    "3. To standardize categorical values \n",
    "4. To identify outliers"
   ]
  },
  {
   "cell_type": "markdown",
   "id": "ad49737d",
   "metadata": {},
   "source": [
    "The correct answer is:\n",
    "**2. To ensure each observation is unique**\n",
    "\n",
    "---\n",
    "\n",
    "### ✅ Explanation:\n",
    "\n",
    "Checking for **duplicates** in a dataset is important because:\n",
    "\n",
    "* **Duplicate rows** can **skew analysis**, especially in:\n",
    "\n",
    "  * Aggregations (like sums, averages)\n",
    "  * Machine learning models (they may overfit or bias results)\n",
    "* Ensuring each **observation (row)** is **unique** helps maintain **data integrity and accuracy**\n",
    "\n",
    "---\n",
    "\n",
    "### Other Options:\n",
    "\n",
    "1. **To increase the size of the dataset** → Duplicates do this, but it's **not desirable**\n",
    "2. **To standardize categorical values** → That's a separate preprocessing step\n",
    "3. **To identify outliers** → Outlier detection involves statistical techniques, not duplication checks\n",
    "\n",
    "---\n",
    "\n",
    "### Example in code:\n",
    "\n",
    "```python\n",
    "import pandas as pd\n",
    "\n",
    "df = pd.DataFrame({\n",
    "    'name': ['Alice', 'Bob', 'Alice'],\n",
    "    'age': [25, 30, 25]\n",
    "})\n",
    "\n",
    "# Check for duplicates\n",
    "print(df.duplicated())\n",
    "print(df[df.duplicated()])\n",
    "\n",
    "# Remove duplicates\n",
    "df_cleaned = df.drop_duplicates()\n",
    "```\n",
    "\n"
   ]
  },
  {
   "cell_type": "code",
   "execution_count": null,
   "id": "0606fa99",
   "metadata": {
    "vscode": {
     "languageId": "plaintext"
    }
   },
   "outputs": [],
   "source": []
  },
  {
   "cell_type": "markdown",
   "id": "86cf37e9",
   "metadata": {},
   "source": [
    "## 15. What kind of plot is used to visualizes potential outliers in numerical columns? \n",
    "1. Histogram \n",
    "2. Box Plot \n",
    "3. Scatter Plot \n",
    "4. Heatmap"
   ]
  },
  {
   "cell_type": "markdown",
   "id": "917107da",
   "metadata": {},
   "source": [
    "The correct answer is:\n",
    "**2. Box Plot**\n",
    "\n",
    "---\n",
    "\n",
    "### ✅ Explanation:\n",
    "\n",
    "A **box plot** (also known as a **box-and-whisker plot**) is used to:\n",
    "\n",
    "* Show the **distribution** of a numerical column\n",
    "* Display the **median**, **quartiles**, and **range**\n",
    "* **Visualize potential outliers**, which appear as **points outside the whiskers**\n",
    "\n",
    "---\n",
    "\n",
    "### How it works:\n",
    "\n",
    "* **Box** = Interquartile Range (IQR: Q1 to Q3)\n",
    "* **Whiskers** = Data within 1.5 × IQR\n",
    "* **Outliers** = Points **outside the whiskers**\n",
    "\n",
    "---\n",
    "\n",
    "### Other Options:\n",
    "\n",
    "1. **Histogram** – Shows frequency, but not clearly outliers\n",
    "2. **Scatter Plot** – Can show data spread but not ideal for detecting outliers in **one column**\n",
    "3. **Heatmap** – Shows correlations or patterns in **matrix-like data**, not outliers\n",
    "\n",
    "---\n",
    "\n",
    "### Example in code:\n",
    "\n",
    "```python\n",
    "import seaborn as sns\n",
    "import matplotlib.pyplot as plt\n",
    "\n",
    "# Example with Titanic dataset\n",
    "titanic = sns.load_dataset(\"titanic\")\n",
    "sns.boxplot(x=titanic['fare'])\n",
    "plt.title(\"Box Plot of Fare (to Detect Outliers)\")\n",
    "plt.show()\n",
    "```\n"
   ]
  },
  {
   "cell_type": "code",
   "execution_count": null,
   "id": "f9ff2f7d",
   "metadata": {
    "vscode": {
     "languageId": "plaintext"
    }
   },
   "outputs": [],
   "source": []
  },
  {
   "cell_type": "markdown",
   "id": "2616a5dc",
   "metadata": {},
   "source": [
    "## 16. How can you address inconsistencies in categorical data? \n",
    "1. By calculating the mean and median \n",
    "2. By removing missing values \n",
    "3. By standardizing the format of categorical values \n",
    "4. By checking for duplicates"
   ]
  },
  {
   "cell_type": "markdown",
   "id": "63cabbeb",
   "metadata": {},
   "source": [
    "The correct answer is:\n",
    "**3. By standardizing the format of categorical values**\n",
    "\n",
    "---\n",
    "\n",
    "### ✅ Explanation:\n",
    "\n",
    "**Inconsistencies in categorical data** often come from:\n",
    "\n",
    "* Different spellings (e.g., \"Male\", \"male\", \"MALE\")\n",
    "* Use of abbreviations (e.g., \"NY\" vs. \"New York\")\n",
    "* Typos or unwanted symbols\n",
    "\n",
    "To fix this, you should **standardize** the format by:\n",
    "\n",
    "* Converting to lowercase or uppercase\n",
    "* Stripping whitespace\n",
    "* Replacing or mapping inconsistent values\n",
    "\n",
    "---\n",
    "\n",
    "### Example in code:\n",
    "\n",
    "```python\n",
    "import pandas as pd\n",
    "\n",
    "df = pd.DataFrame({'gender': ['Male', 'male ', ' FEMALE', 'female', 'MALE']})\n",
    "\n",
    "# Standardize format\n",
    "df['gender'] = df['gender'].str.strip().str.lower()\n",
    "print(df['gender'].unique())\n",
    "```\n",
    "\n",
    "**Output:**\n",
    "\n",
    "```\n",
    "['male' 'female']\n",
    "```\n",
    "\n",
    "---\n",
    "\n",
    "### Other Options:\n",
    "\n",
    "1. **Mean/median** → Only for numerical data\n",
    "2. **Removing missing values** → Helps with nulls, not inconsistencies\n",
    "3. **Checking for duplicates** → Helps with repeated rows, not inconsistent labels\n"
   ]
  },
  {
   "cell_type": "code",
   "execution_count": null,
   "id": "d79e5ca6",
   "metadata": {
    "vscode": {
     "languageId": "plaintext"
    }
   },
   "outputs": [],
   "source": []
  },
  {
   "cell_type": "markdown",
   "id": "dc33dce8",
   "metadata": {},
   "source": [
    "## 17. What is an outlier? \n",
    "1. A common data point within the range \n",
    "2. A data point that deviates significantly from other observations \n",
    "3. A duplicated data point \n",
    "4. A missing data point"
   ]
  },
  {
   "cell_type": "markdown",
   "id": "3d9759b1",
   "metadata": {},
   "source": [
    "The correct answer is:\n",
    "**2. A data point that deviates significantly from other observations**\n",
    "\n",
    "---\n",
    "\n",
    "### ✅ Explanation:\n",
    "\n",
    "An **outlier** is a value in a dataset that is **significantly different** from most of the other data points. It can result from:\n",
    "\n",
    "* Data entry errors\n",
    "* Measurement errors\n",
    "* Genuine extreme values (e.g., extremely high salary)\n",
    "\n",
    "Outliers can **skew results**, affect **mean**, and impact **machine learning models** if not handled properly.\n",
    "\n",
    "---\n",
    "\n",
    "### Other Options:\n",
    "\n",
    "1. **A common data point** → This is the opposite of an outlier\n",
    "2. **A duplicated data point** → Not the same as an outlier\n",
    "3. **A missing data point** → Referred to as `NaN` or null, not an outlier\n",
    "\n",
    "---\n",
    "\n",
    "### Example:\n",
    "\n",
    "In the dataset: `[10, 12, 11, 13, 14, 200]`\n",
    "→ `200` is an outlier (far from the rest)\n"
   ]
  },
  {
   "cell_type": "code",
   "execution_count": null,
   "id": "0857e209",
   "metadata": {
    "vscode": {
     "languageId": "plaintext"
    }
   },
   "outputs": [],
   "source": []
  },
  {
   "cell_type": "markdown",
   "id": "6f7c4950",
   "metadata": {},
   "source": [
    "## 18. Which measure of central tendency represents the average value of a dataset? \n",
    "1. Mean \n",
    "2. Median \n",
    "3. Mode \n",
    "4. Range"
   ]
  },
  {
   "cell_type": "markdown",
   "id": "2f5ad101",
   "metadata": {},
   "source": [
    "The correct answer is:\n",
    "**1. Mean**\n",
    "\n",
    "---\n",
    "\n",
    "### ✅ Explanation:\n",
    "\n",
    "The **mean** is the **average** of a dataset and is calculated by:\n",
    "\n",
    "$$\n",
    "\\text{Mean} = \\frac{\\text{Sum of all values}}{\\text{Number of values}}\n",
    "$$\n",
    "\n",
    "---\n",
    "\n",
    "### Other Options:\n",
    "\n",
    "2. **Median** – The **middle value** when data is sorted\n",
    "3. **Mode** – The value that **occurs most frequently**\n",
    "4. **Range** – The **difference between the maximum and minimum** values, not a central tendency\n",
    "\n",
    "---\n",
    "\n",
    "### Example:\n",
    "\n",
    "For the dataset: `[2, 4, 6, 8]`\n",
    "\n",
    "* **Mean** = (2 + 4 + 6 + 8) / 4 = **5**\n"
   ]
  },
  {
   "cell_type": "code",
   "execution_count": null,
   "id": "4379f1d2",
   "metadata": {
    "vscode": {
     "languageId": "plaintext"
    }
   },
   "outputs": [],
   "source": []
  },
  {
   "cell_type": "markdown",
   "id": "31c63760",
   "metadata": {},
   "source": [
    "## 19. What does the median represent in a dataset? \n",
    "1. The most frequent value \n",
    "2. The middle value when data is sorted \n",
    "3. The average value \n",
    "4. The difference between maximum and minimum values"
   ]
  },
  {
   "cell_type": "markdown",
   "id": "f9f173e0",
   "metadata": {},
   "source": [
    "The correct answer is:\n",
    "**2. The middle value when data is sorted**\n",
    "\n",
    "---\n",
    "\n",
    "### ✅ Explanation:\n",
    "\n",
    "The **median** is the value that **divides the dataset into two equal halves** when it is **sorted in order**.\n",
    "\n",
    "* If the number of values is **odd**, it's the middle number.\n",
    "* If it's **even**, it's the **average of the two middle numbers**.\n",
    "\n",
    "---\n",
    "\n",
    "### Other Options:\n",
    "\n",
    "1. **Most frequent value** → That’s the **mode**\n",
    "2. **Average value** → That’s the **mean**\n",
    "3. **Difference between max and min** → That’s the **range**\n",
    "\n",
    "---\n",
    "\n",
    "### Example:\n",
    "\n",
    "For the sorted dataset `[3, 5, 7]` → **Median = 5**\n",
    "For `[3, 5, 7, 9]` → **Median = (5 + 7)/2 = 6**\n",
    "\n"
   ]
  },
  {
   "cell_type": "code",
   "execution_count": null,
   "id": "d31760c6",
   "metadata": {
    "vscode": {
     "languageId": "plaintext"
    }
   },
   "outputs": [],
   "source": []
  },
  {
   "cell_type": "markdown",
   "id": "bd5c75b0",
   "metadata": {},
   "source": [
    "## 20. Which of the following measures the spread of data around the mean? \n",
    "1. Range \n",
    "2. Variance \n",
    "3. Mode \n",
    "4. Mode"
   ]
  },
  {
   "cell_type": "markdown",
   "id": "4a44307a",
   "metadata": {},
   "source": [
    "The correct answer is:\n",
    "**2. Variance**\n",
    "\n",
    "---\n",
    "\n",
    "### ✅ Explanation:\n",
    "\n",
    "* **Variance** measures how **spread out** the data is around the **mean**.\n",
    "* It calculates the **average of the squared differences** from the mean.\n",
    "\n",
    "$$\n",
    "\\text{Variance} = \\frac{\\sum (x_i - \\bar{x})^2}{n}\n",
    "$$\n",
    "\n",
    "---\n",
    "\n",
    "### Other Options:\n",
    "\n",
    "1. **Range** – Difference between **maximum and minimum** (simple spread, not around mean)\n",
    "   3 & 4. **Mode** – The **most frequent value**, not a measure of spread\n",
    "\n",
    "---\n",
    "\n",
    "### Related Concept:\n",
    "\n",
    "* **Standard Deviation** is the **square root of variance** and is also a key measure of spread.\n",
    "\n",
    "---\n",
    "\n",
    "### Example in Python:\n",
    "\n",
    "```python\n",
    "import numpy as np\n",
    "\n",
    "data = [4, 8, 6, 5, 3]\n",
    "variance = np.var(data)\n",
    "print(\"Variance:\", variance)\n",
    "```\n",
    "\n"
   ]
  },
  {
   "cell_type": "code",
   "execution_count": null,
   "id": "7747cf1c",
   "metadata": {
    "vscode": {
     "languageId": "plaintext"
    }
   },
   "outputs": [],
   "source": []
  },
  {
   "cell_type": "markdown",
   "id": "03fc8448",
   "metadata": {},
   "source": [
    "## 21. What is skewness in the context of distribution analysis?\n",
    "1. It measures the symmetry of the data distribution \n",
    "2. It measures the spread of data \n",
    "3. It measures the central tendency \n",
    "4. It measures the correlation between variables"
   ]
  },
  {
   "cell_type": "markdown",
   "id": "290eaed3",
   "metadata": {},
   "source": [
    "The correct answer is:\n",
    "**1. It measures the symmetry of the data distribution**\n",
    "\n",
    "---\n",
    "\n",
    "### ✅ Explanation:\n",
    "\n",
    "**Skewness** tells us whether the data distribution is **symmetrical** or **asymmetrical**:\n",
    "\n",
    "* **Skewness = 0** → Perfectly symmetrical (normal distribution)\n",
    "* **Positive skew** (Right-skewed) → Tail on the **right**, more values on the left\n",
    "* **Negative skew** (Left-skewed) → Tail on the **left**, more values on the right\n",
    "\n",
    "---\n",
    "\n",
    "### Other Options:\n",
    "\n",
    "2. **Spread of data** → Measured by **variance** or **standard deviation**\n",
    "3. **Central tendency** → Includes **mean, median, mode**\n",
    "4. **Correlation** → Measures **relationship between variables**, not shape\n",
    "\n",
    "---\n",
    "\n",
    "### Example in Python:\n",
    "\n",
    "```python\n",
    "import pandas as pd\n",
    "\n",
    "data = pd.Series([1, 2, 3, 4, 5, 100])\n",
    "print(\"Skewness:\", data.skew())\n",
    "```\n",
    "\n",
    "This will show **positive skewness** due to the outlier `100`.\n",
    "\n"
   ]
  },
  {
   "cell_type": "code",
   "execution_count": null,
   "id": "0637d2e7",
   "metadata": {
    "vscode": {
     "languageId": "plaintext"
    }
   },
   "outputs": [],
   "source": []
  },
  {
   "cell_type": "markdown",
   "id": "dcc88b69",
   "metadata": {},
   "source": [
    "## 22. What does a positive kurtosis value indicate? \n",
    "1. A distribution with heavy tails and a sharper peak than normal \n",
    "2. A distribution with lighter tails \n",
    "3. A perfectly normal distribution \n",
    "4. a distribution with a single mode"
   ]
  },
  {
   "cell_type": "markdown",
   "id": "b0137b7d",
   "metadata": {},
   "source": [
    "The correct answer is:\n",
    "**1. A distribution with heavy tails and a sharper peak than normal**\n",
    "\n",
    "---\n",
    "\n",
    "### ✅ Explanation:\n",
    "\n",
    "**Kurtosis** measures the **\"tailedness\"** or **peakedness** of a distribution:\n",
    "\n",
    "* **Positive kurtosis (> 0)** →\n",
    "\n",
    "  * **Leptokurtic** distribution\n",
    "  * **Sharper peak** and **heavier tails** than a normal distribution\n",
    "  * Indicates more **extreme outliers**\n",
    "\n",
    "---\n",
    "\n",
    "### Other Options:\n",
    "\n",
    "2. **Lighter tails** → This describes **negative kurtosis** (platykurtic)\n",
    "3. **Perfectly normal distribution** → Has **zero kurtosis** (mesokurtic)\n",
    "4. **Single mode** → Refers to **modality**, not kurtosis\n",
    "\n",
    "---\n",
    "\n",
    "### Quick Summary:\n",
    "\n",
    "| Kurtosis Type | Value | Characteristics                         |\n",
    "| ------------- | ----- | --------------------------------------- |\n",
    "| Leptokurtic   | > 0   | Sharp peak, heavy tails (many outliers) |\n",
    "| Mesokurtic    | = 0   | Normal distribution                     |\n",
    "| Platykurtic   | < 0   | Flat peak, light tails (few outliers)   |\n"
   ]
  },
  {
   "cell_type": "code",
   "execution_count": null,
   "id": "fb8baf4b",
   "metadata": {
    "vscode": {
     "languageId": "plaintext"
    }
   },
   "outputs": [],
   "source": []
  },
  {
   "cell_type": "markdown",
   "id": "fc586ff4",
   "metadata": {},
   "source": [
    "## 23. Which of the following is NOT a measure of dispersion? \n",
    "1. Standard Deviation \n",
    "2. Range \n",
    "3. Mode \n",
    "4. Variance"
   ]
  },
  {
   "cell_type": "markdown",
   "id": "4da3d158",
   "metadata": {},
   "source": [
    "The correct answer is:\n",
    "**3. Mode**\n",
    "\n",
    "---\n",
    "\n",
    "### ✅ Explanation:\n",
    "\n",
    "* **Mode** is a **measure of central tendency**, not dispersion.\n",
    "* It represents the **most frequent value** in a dataset.\n",
    "\n",
    "---\n",
    "\n",
    "### The Others Are Measures of Dispersion:\n",
    "\n",
    "1. **Standard Deviation** → Measures how much data varies from the mean\n",
    "2. **Range** → Difference between the maximum and minimum values\n",
    "3. **Variance** → Average of the squared differences from the mean\n",
    "\n",
    "---\n",
    "\n",
    "### Summary Table:\n",
    "\n",
    "| Concept                | Type             | Description                         |\n",
    "| ---------------------- | ---------------- | ----------------------------------- |\n",
    "| **Mode**               | Central Tendency | Most frequent value                 |\n",
    "| **Standard Deviation** | Dispersion       | Spread around the mean              |\n",
    "| **Range**              | Dispersion       | Max - Min                           |\n",
    "| **Variance**           | Dispersion       | Average squared deviation from mean |\n"
   ]
  },
  {
   "cell_type": "code",
   "execution_count": null,
   "id": "d1a8adc1",
   "metadata": {
    "vscode": {
     "languageId": "plaintext"
    }
   },
   "outputs": [],
   "source": []
  },
  {
   "cell_type": "markdown",
   "id": "997511b4",
   "metadata": {},
   "source": [
    "## 24. How is the range of a dataset calculated? \n",
    "1. Maximum value minus the minimum value \n",
    "2. Mean value divided by the standard deviation \n",
    "3. Sum of all data points \n",
    "4. Number of data points"
   ]
  },
  {
   "cell_type": "markdown",
   "id": "b0cea3a8",
   "metadata": {},
   "source": [
    "The correct answer is:\n",
    "**1. Maximum value minus the minimum value**\n",
    "\n",
    "---\n",
    "\n",
    "### ✅ Explanation:\n",
    "\n",
    "The **range** of a dataset measures the **spread** by calculating:\n",
    "\n",
    "$$\n",
    "\\text{Range} = \\text{Maximum value} - \\text{Minimum value}\n",
    "$$\n",
    "\n",
    "---\n",
    "\n",
    "### Example:\n",
    "\n",
    "For the dataset: `[3, 7, 10, 15]`\n",
    "\n",
    "$$\n",
    "\\text{Range} = 15 - 3 = 12\n",
    "$$\n",
    "\n",
    "---\n",
    "\n",
    "### Why the Others Are Incorrect:\n",
    "\n",
    "2. **Mean ÷ Standard Deviation** → Not related to range\n",
    "3. **Sum of all data points** → That gives the **total**, not the range\n",
    "4. **Number of data points** → That’s the **count**, not the range\n",
    "\n"
   ]
  },
  {
   "cell_type": "code",
   "execution_count": null,
   "id": "b80bc284",
   "metadata": {
    "vscode": {
     "languageId": "plaintext"
    }
   },
   "outputs": [],
   "source": []
  },
  {
   "cell_type": "markdown",
   "id": "e7fefed9",
   "metadata": {},
   "source": [
    "## 25. What does the data['Age'].skew() function return? \n",
    "1. The variance of the 'Age' column \n",
    "2. The Skewness of the 'Age' column \n",
    "3. The median of the 'Age' column \n",
    "4. The standard deviation of the 'Age' column"
   ]
  },
  {
   "cell_type": "markdown",
   "id": "459f084a",
   "metadata": {},
   "source": [
    "The correct answer is:\n",
    "**2. The Skewness of the 'Age' column**\n",
    "\n",
    "---\n",
    "\n",
    "### ✅ Explanation:\n",
    "\n",
    "In **Pandas**, the function:\n",
    "\n",
    "```python\n",
    "data['Age'].skew()\n",
    "```\n",
    "\n",
    "returns the **skewness** of the `'Age'` column — a measure of the **asymmetry** of the distribution:\n",
    "\n",
    "* **Positive skew** → Tail on the **right**\n",
    "* **Negative skew** → Tail on the **left**\n",
    "* **Skew = 0** → Symmetrical distribution\n",
    "\n",
    "---\n",
    "\n",
    "### Other Options:\n",
    "\n",
    "1. **Variance** → Use `data['Age'].var()`\n",
    "2. **Median** → Use `data['Age'].median()`\n",
    "3. **Standard deviation** → Use `data['Age'].std()`\n",
    "\n",
    "---\n",
    "\n",
    "### Example:\n",
    "\n",
    "```python\n",
    "import pandas as pd\n",
    "\n",
    "data = pd.DataFrame({'Age': [22, 25, 29, 34, 120]})\n",
    "print(data['Age'].skew())  # Likely positive due to outlier (120)\n",
    "```\n",
    "\n"
   ]
  },
  {
   "cell_type": "code",
   "execution_count": null,
   "id": "8b9de139",
   "metadata": {
    "vscode": {
     "languageId": "plaintext"
    }
   },
   "outputs": [],
   "source": []
  },
  {
   "cell_type": "markdown",
   "id": "54aec3e5",
   "metadata": {},
   "source": [
    "## 26. Which plot is best for visualizing the distribution of a single numerical variables? \n",
    "1. Histogram \n",
    "2. Scatter Plot \n",
    "3. Bar Chart \n",
    "4. Pie Chart"
   ]
  },
  {
   "cell_type": "markdown",
   "id": "c2026627",
   "metadata": {},
   "source": [
    "The correct answer is:\n",
    "**1. Histogram**\n",
    "\n",
    "---\n",
    "\n",
    "### ✅ Explanation:\n",
    "\n",
    "A **histogram** is best for visualizing the **distribution** of a **single numerical variable**. It:\n",
    "\n",
    "* Divides data into **bins (intervals)**\n",
    "* Shows **frequency** (how many values fall into each bin)\n",
    "* Helps detect **shape**, **spread**, and **outliers** in the data\n",
    "\n",
    "---\n",
    "\n",
    "### Other Options:\n",
    "\n",
    "2. **Scatter Plot** – Shows relationships between **two numerical** variables\n",
    "3. **Bar Chart** – Used for **categorical** data, not continuous distributions\n",
    "4. **Pie Chart** – Shows **proportions** of **categorical** data, not distribution\n",
    "\n",
    "---\n",
    "\n",
    "### Example in Python:\n",
    "\n",
    "```python\n",
    "import matplotlib.pyplot as plt\n",
    "\n",
    "ages = [22, 25, 29, 34, 22, 40, 45, 29, 33, 37]\n",
    "plt.hist(ages, bins=5)\n",
    "plt.title(\"Histogram of Ages\")\n",
    "plt.xlabel(\"Age\")\n",
    "plt.ylabel(\"Frequency\")\n",
    "plt.show()\n",
    "```\n",
    "\n"
   ]
  },
  {
   "cell_type": "code",
   "execution_count": null,
   "id": "e696a2fa",
   "metadata": {
    "vscode": {
     "languageId": "plaintext"
    }
   },
   "outputs": [],
   "source": []
  },
  {
   "cell_type": "markdown",
   "id": "6e9e2115",
   "metadata": {},
   "source": [
    "## 27. Which plot is used to visualize the relationship between two numerical variables? \n",
    "1. Bar Chart \n",
    "2. Histogram \n",
    "3. Scatter Plot \n",
    "4. Pie Chart"
   ]
  },
  {
   "cell_type": "markdown",
   "id": "5391675f",
   "metadata": {},
   "source": [
    "The correct answer is:\n",
    "**3. Scatter Plot**\n",
    "\n",
    "---\n",
    "\n",
    "### ✅ Explanation:\n",
    "\n",
    "A **scatter plot** is used to visualize the **relationship** or **correlation** between **two numerical variables** by plotting data points on an x-y coordinate system.\n",
    "\n",
    "Each point represents an observation with:\n",
    "\n",
    "* One variable on the **x-axis**\n",
    "* Another on the **y-axis**\n",
    "\n",
    "This helps identify:\n",
    "\n",
    "* **Trends**\n",
    "* **Clusters**\n",
    "* **Outliers**\n",
    "* **Correlations** (positive, negative, or none)\n",
    "\n",
    "---\n",
    "\n",
    "### Other Options:\n",
    "\n",
    "1. **Bar Chart** – For comparing **categories**, not relationships\n",
    "2. **Histogram** – For showing **distribution** of **one** numerical variable\n",
    "3. **Pie Chart** – For showing **proportions** of **categorical** data\n",
    "\n",
    "---\n",
    "\n",
    "### Example in Python:\n",
    "\n",
    "```python\n",
    "import matplotlib.pyplot as plt\n",
    "\n",
    "# Example data\n",
    "height = [150, 160, 170, 180, 190]\n",
    "weight = [50, 60, 65, 80, 90]\n",
    "\n",
    "plt.scatter(height, weight)\n",
    "plt.xlabel(\"Height (cm)\")\n",
    "plt.ylabel(\"Weight (kg)\")\n",
    "plt.title(\"Height vs Weight\")\n",
    "plt.show()\n",
    "```\n",
    "\n"
   ]
  },
  {
   "cell_type": "code",
   "execution_count": null,
   "id": "0a6458e2",
   "metadata": {
    "vscode": {
     "languageId": "plaintext"
    }
   },
   "outputs": [],
   "source": []
  },
  {
   "cell_type": "markdown",
   "id": "18b55ff2",
   "metadata": {},
   "source": [
    "## 28. What does a heatmap visualize? \n",
    "1. The distribution of a single variable \n",
    "2. The relationship between two variables \n",
    "3. The correlation matrix of several variables \n",
    "4. The frequency of categorical data"
   ]
  },
  {
   "cell_type": "markdown",
   "id": "e812d8bb",
   "metadata": {},
   "source": [
    "The correct answer is:\n",
    "**3. The correlation matrix of several variables**\n",
    "\n",
    "---\n",
    "\n",
    "### ✅ Explanation:\n",
    "\n",
    "A **heatmap** is commonly used to visualize a **correlation matrix**, which shows the **pairwise correlation coefficients** between **multiple numerical variables** in a dataset.\n",
    "\n",
    "* Each cell in the heatmap shows the **correlation value** (e.g., Pearson correlation) between two variables.\n",
    "* Colors indicate the **strength and direction** of the correlation:\n",
    "\n",
    "  * Dark or intense colors → strong correlations (positive or negative)\n",
    "  * Light or neutral colors → weak or no correlation\n",
    "\n",
    "---\n",
    "\n",
    "### Other Options:\n",
    "\n",
    "1. **Distribution of a single variable** → Use **histogram** or **box plot**\n",
    "2. **Relationship between two variables** → Use **scatter plot**\n",
    "3. **Frequency of categorical data** → Use **bar chart** or **countplot**\n",
    "\n",
    "---\n",
    "\n",
    "### Example in Python:\n",
    "\n",
    "```python\n",
    "import seaborn as sns\n",
    "import pandas as pd\n",
    "import matplotlib.pyplot as plt\n",
    "\n",
    "# Sample DataFrame\n",
    "data = sns.load_dataset('iris')\n",
    "correlation_matrix = data.corr(numeric_only=True)\n",
    "\n",
    "sns.heatmap(correlation_matrix, annot=True, cmap='coolwarm')\n",
    "plt.title(\"Correlation Heatmap\")\n",
    "plt.show()\n",
    "```\n"
   ]
  },
  {
   "cell_type": "code",
   "execution_count": null,
   "id": "b164779b",
   "metadata": {
    "vscode": {
     "languageId": "plaintext"
    }
   },
   "outputs": [],
   "source": []
  },
  {
   "cell_type": "markdown",
   "id": "3852f2f1",
   "metadata": {},
   "source": [
    "## 29. Which type of plot is best for identifying outliers in the dataset? \n",
    "1. Histogram \n",
    "2. Bar Chart \n",
    "3. Box Plot \n",
    "4. Scatter Plot"
   ]
  },
  {
   "cell_type": "markdown",
   "id": "9a5d0dc6",
   "metadata": {},
   "source": [
    "The correct answer is:\n",
    "**3. Box Plot**\n",
    "\n",
    "---\n",
    "\n",
    "### ✅ Explanation:\n",
    "\n",
    "A **box plot** (or **box-and-whisker plot**) is the best plot for identifying **outliers** in a dataset. It displays:\n",
    "\n",
    "* **Median (Q2)**\n",
    "* **First (Q1) and third (Q3) quartiles**\n",
    "* **Whiskers** (typically 1.5 × IQR range)\n",
    "* **Outliers** as **individual points** outside the whiskers\n",
    "\n",
    "---\n",
    "\n",
    "### Why Not the Others?\n",
    "\n",
    "1. **Histogram** – Shows distribution but doesn’t clearly highlight outliers\n",
    "2. **Bar Chart** – Best for categorical data, not suitable for detecting outliers\n",
    "3. **Scatter Plot** – Can show unusual points, but not specifically designed for outlier detection in **one variable**\n",
    "\n",
    "---\n",
    "\n",
    "### Example in Python:\n",
    "\n",
    "```python\n",
    "import seaborn as sns\n",
    "import matplotlib.pyplot as plt\n",
    "\n",
    "# Example data\n",
    "data = [10, 12, 11, 13, 14, 100]  # 100 is an outlier\n",
    "\n",
    "sns.boxplot(data=data)\n",
    "plt.title(\"Box Plot to Detect Outliers\")\n",
    "plt.show()\n",
    "```\n"
   ]
  },
  {
   "cell_type": "code",
   "execution_count": null,
   "id": "916a66ff",
   "metadata": {
    "vscode": {
     "languageId": "plaintext"
    }
   },
   "outputs": [],
   "source": []
  },
  {
   "cell_type": "markdown",
   "id": "2fb464f4",
   "metadata": {},
   "source": [
    "## 30. What kind of relationship does a scatter plot show? \n",
    "1. Categorical vs. categorical \n",
    "2. Numerical vs. numerical \n",
    "3. Categorical vs. numerical \n",
    "4. Distribution of a single variable"
   ]
  },
  {
   "cell_type": "markdown",
   "id": "2d8f54f9",
   "metadata": {},
   "source": [
    "The correct answer is:\n",
    "**2. Numerical vs. numerical**\n",
    "\n",
    "---\n",
    "\n",
    "### ✅ Explanation:\n",
    "\n",
    "A **scatter plot** is used to show the relationship between **two numerical variables**. Each point represents one observation with:\n",
    "\n",
    "* One variable plotted on the **x-axis**\n",
    "* The other on the **y-axis**\n",
    "\n",
    "It helps in identifying:\n",
    "\n",
    "* **Positive or negative correlations**\n",
    "* **Linear or non-linear trends**\n",
    "* **Clusters**\n",
    "* **Outliers**\n",
    "\n",
    "---\n",
    "\n",
    "### Why Not the Others?\n",
    "\n",
    "1. **Categorical vs. categorical** → Use **heatmaps** or **grouped bar charts**\n",
    "2. **Categorical vs. numerical** → Use **box plots** or **violin plots**\n",
    "3. **Distribution of a single variable** → Use **histograms** or **density plots**\n",
    "\n",
    "---\n",
    "\n",
    "### Example in Python:\n",
    "\n",
    "```python\n",
    "import matplotlib.pyplot as plt\n",
    "\n",
    "x = [1, 2, 3, 4, 5]\n",
    "y = [2, 4, 6, 8, 10]\n",
    "\n",
    "plt.scatter(x, y)\n",
    "plt.xlabel(\"X values\")\n",
    "plt.ylabel(\"Y values\")\n",
    "plt.title(\"Scatter Plot: X vs Y\")\n",
    "plt.show()\n",
    "```\n",
    "\n"
   ]
  },
  {
   "cell_type": "code",
   "execution_count": null,
   "id": "20013541",
   "metadata": {
    "vscode": {
     "languageId": "plaintext"
    }
   },
   "outputs": [],
   "source": []
  },
  {
   "cell_type": "code",
   "execution_count": null,
   "id": "b97d5925",
   "metadata": {
    "vscode": {
     "languageId": "plaintext"
    }
   },
   "outputs": [],
   "source": []
  },
  {
   "cell_type": "code",
   "execution_count": null,
   "id": "9c3fdf2e",
   "metadata": {
    "vscode": {
     "languageId": "plaintext"
    }
   },
   "outputs": [],
   "source": []
  },
  {
   "cell_type": "code",
   "execution_count": null,
   "id": "40340bf8",
   "metadata": {
    "vscode": {
     "languageId": "plaintext"
    }
   },
   "outputs": [],
   "source": []
  }
 ],
 "metadata": {
  "language_info": {
   "name": "python"
  }
 },
 "nbformat": 4,
 "nbformat_minor": 5
}
